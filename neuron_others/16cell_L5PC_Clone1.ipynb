{
 "cells": [
  {
   "cell_type": "code",
   "execution_count": 1,
   "id": "8a5dbc7a-a14b-4827-822b-02a87b35cb82",
   "metadata": {
    "editable": true,
    "slideshow": {
     "slide_type": ""
    },
    "tags": []
   },
   "outputs": [],
   "source": [
    "import numpy as np\n",
    "import matplotlib.pyplot as plt\n",
    "import matplotlib as mpl\n",
    "from matplotlib.collections import PolyCollection\n",
    "import neuron\n",
    "from neuron import h\n",
    "import numba\n",
    "import time, os\n",
    "import subprocess\n",
    "import pickle, glob\n",
    "import scipy.signal\n",
    "from scipy.signal import find_peaks\n",
    "import copy\n",
    "\n",
    "def calcSpikeTime_spikeIndex_FiringRate_spikeNumber_fromVth(vsoma, tvar, Vth=0.0):\n",
    "    '''Calculate the discharge rate, discharge time and index. The discharge time is defined as the moment when vsoma exceeds Vth.'''\n",
    "    logicArray = vsoma >= 0.0\n",
    "    logicArray_binary = logicArray.astype(np.int32)\n",
    "    logicArray_diff   = np.hstack((0, np.diff(logicArray_binary)))\n",
    "    spikeIndex  = logicArray_diff > 0.0\n",
    "    spikeTime   = tvar[spikeIndex]\n",
    "    spikeNumber = np.sum(spikeIndex)\n",
    "    firingRate  = 1000 * spikeNumber / (tvar[-1] - tvar[0])\n",
    "    spikeIndex  = np.nonzero(spikeIndex)[0]\n",
    "    return spikeTime, spikeIndex, firingRate, spikeNumber\n",
    "\n",
    "def calc_field_spike_entrainment(vsoma=np.zeros(10), Evar=np.zeros(10), tvar=np.zeros(10), Vth=0.0):\n",
    "    '''Using the Hilbert transform, 0° corresponds to the peak of the electric field waveform, and 90° corresponds to the edge of the electric field decline.'''\n",
    "    analyticSignal = scipy.signal.hilbert(Evar)\n",
    "    tacsInstantaneousPhase = np.angle(analyticSignal)  # -π~π\n",
    "    spikeTime, spikeIndex, firingRate, spikeNumber = calcSpikeTime_spikeIndex_FiringRate_spikeNumber_fromVth(vsoma, tvar, Vth=Vth)\n",
    "    spikePhaseRadian = tacsInstantaneousPhase[spikeIndex]\n",
    "    spikePhaseRadian[spikePhaseRadian < 0 ] += 2*np.pi\n",
    "    pluralPLV = np.mean(np.exp(1j*spikePhaseRadian))\n",
    "    spikePhaseDegree = np.rad2deg(spikePhaseRadian)\n",
    "    fieldSpikePLV = np.abs(pluralPLV)\n",
    "\n",
    "    return fieldSpikePLV, spikePhaseDegree, pluralPLV, spikeTime, spikeIndex, firingRate, spikeNumber\n",
    "\n",
    "def calc_uniformE_theta_phi(allSectionLists, theta=0, phi=0):\n",
    "    theta = theta * np.pi / 180\n",
    "    phi   = phi * np.pi / 180\n",
    "    Ex = np.sin(theta) * np.cos(phi)\n",
    "    Ey = np.sin(theta) * np.sin(phi)\n",
    "    Ez = np.cos(theta)\n",
    "    for sec in allSectionLists:\n",
    "        if h.ismembrane('xtra', sec=sec) and h.ismembrane('extracellular', sec=sec):\n",
    "            for seg in sec:\n",
    "                # The unit of potential in NEURON is mV. It needs to be multiplied by 1e-3 for conversion.\n",
    "                seg.es_xtra = -(Ex*seg.x_xtra + Ey*seg.y_xtra + Ez*seg.z_xtra) * 1e-3 "
   ]
  },
  {
   "cell_type": "code",
   "execution_count": 2,
   "id": "69f39b0e-56ea-4d54-9980-052f6e5c1179",
   "metadata": {},
   "outputs": [
    {
     "name": "stdout",
     "output_type": "stream",
     "text": [
      "\t1 \n",
      "\t1 \n",
      "\t1 \n",
      "\t1 \n",
      "\t1 \n",
      "\t1 \n",
      "\t1 \n",
      "\t1 \n",
      "*---------*\n",
      "Loaded Blue Brain cell 16: L5_TTPC2_cADpyr232_1 \n",
      "Temperature = 37 C\n",
      "Applying 90° x-rotation\n",
      "Got main axon (2)\n",
      "Myelinating axon: Replacing 203 Axonal sections w/ 357 Myelin, 357 Node, 42 Unmyelin sections\n",
      "Adding myelin before the 1st bifurcation\n",
      "Model now has 417 sections and 2448 compartments\n"
     ]
    }
   ],
   "source": [
    "class Cell():\n",
    "    def __init__(self, cell_id):\n",
    "        self.cell_id = cell_id\n",
    "        self.list_cell_model_name = ['L1_NGC-DA_bNAC219_1', 'L1_NGC-DA_bNAC219_2', 'L1_NGC-DA_bNAC219_3', 'L1_NGC-DA_bNAC219_4', 'L1_NGC-DA_bNAC219_5',\n",
    "                                'L23_PC_cADpyr229_1', 'L23_PC_cADpyr229_2', 'L23_PC_cADpyr229_3', 'L23_PC_cADpyr229_4', 'L23_PC_cADpyr229_5',\n",
    "                                'L4_LBC_cACint209_1', 'L4_LBC_cACint209_2', 'L4_LBC_cACint209_3', 'L4_LBC_cACint209_4', 'L4_LBC_cACint209_5', \n",
    "                                'L5_TTPC2_cADpyr232_1', 'L5_TTPC2_cADpyr232_2', 'L5_TTPC2_cADpyr232_3', 'L5_TTPC2_cADpyr232_4', 'L5_TTPC2_cADpyr232_5',\n",
    "                                'L6_TPC_L4_cADpyr231_1', 'L6_TPC_L4_cADpyr231_2', 'L6_TPC_L4_cADpyr231_3', 'L6_TPC_L4_cADpyr231_4', 'L6_TPC_L4_cADpyr231_5']\n",
    "        self.list_NSTACK_size = [100000, 100000, 100000, 100000, 100000, \\\n",
    "                                  10000, 100000, 100000,  10000, 100000, \\\n",
    "                                 100000, 100000, 100000, 100000, 100000, \\\n",
    "                                 100000, 100000, 100000, 100000, 100000, \\\n",
    "                                 100000, 100000, 100000,  10000,  10000 ]\n",
    "        self.cell_model_name = self.list_cell_model_name[self.cell_id - 1]\n",
    "        self.NSTACK_size = self.list_NSTACK_size[self.cell_id - 1]\n",
    "        \n",
    "        self.create_cell()\n",
    "        # for sec in h.allsec():\n",
    "        #     if h.ismembrane('xtra', sec=sec):\n",
    "        #         sec.uninsert('xtra')\n",
    "        self.allSections = [sec for sec in neuron.h.cell.all]\n",
    "        self.allSegments = [seg for sec in neuron.h.cell.all for seg in sec]\n",
    "        self.get_cell_coordinates()\n",
    "        self.get_cell_segment_coordinates()\n",
    "        self.create_recordings()\n",
    "        \n",
    "    def create_cell(self):\n",
    "        h.load_file(\"nrngui.hoc\")\n",
    "        h.load_file(\"init_snowp.hoc\")\n",
    "        h.cell_id = self.cell_id\n",
    "        h.cell_model_name = self.cell_model_name\n",
    "        h.NSTACK_size = self.NSTACK_size\n",
    "        h.loadFiles()\n",
    "        h.cell_chooser()\n",
    "        h.load_file(\"steadystate_init.hoc\")\n",
    "        h.load_file(\"getes_snowp.hoc\") # 电场相关文件\n",
    "        \n",
    "    def get_cell_coordinates(self):\n",
    "        numSec = len(self.allSections)\n",
    "        self.cell_coordinates = np.full((3, 3*numSec), np.nan) # shape=(3=x,y,z, numSec*3=xstart,xend,nan)\n",
    "        self.cell_section_coordinates = np.zeros((numSec, 3))\n",
    "        self.cell_section_coordinates_start = np.zeros((numSec, 3))\n",
    "        self.cell_section_coordinates_end = np.zeros((numSec, 3))\n",
    "        for i, sec in enumerate(self.allSections):\n",
    "            n3d = int(neuron.h.n3d(sec=sec))\n",
    "            sec_start = np.array([neuron.h.x3d(0, sec=sec), neuron.h.y3d(0, sec=sec), neuron.h.z3d(0, sec=sec)])\n",
    "            sec_end = np.array([neuron.h.x3d(n3d-1, sec=sec), neuron.h.y3d(n3d-1, sec=sec), neuron.h.z3d(n3d-1, sec=sec)])\n",
    "            self.cell_section_coordinates_start[i, :] = sec_start\n",
    "            self.cell_section_coordinates_end[i, :] = sec_end\n",
    "            self.cell_coordinates[:, i*3] = sec_start\n",
    "            self.cell_coordinates[:, i*3+1] = sec_end\n",
    "            self.cell_section_coordinates[i, :] = (sec_start + sec_end) / 2\n",
    "\n",
    "    def get_cell_segment_coordinates(self):\n",
    "        numSeg = np.array([sec.nseg for sec in self.allSections])\n",
    "        numSeg = np.sum(numSeg)\n",
    "        self.cell_segment_coordinates = np.zeros((numSeg, 3))\n",
    "        num = 0\n",
    "        for sec in self.allSections:\n",
    "            for seg in sec:\n",
    "                self.cell_segment_coordinates[num, :] = np.array([seg.x_xtra, seg.y_xtra, seg.z_xtra])\n",
    "                num += 1\n",
    "    \n",
    "    def get_section_center(self, sec):\n",
    "        n3d = int(neuron.h.n3d(sec=sec))\n",
    "        sec_start = np.array([neuron.h.x3d(0, sec=sec), neuron.h.y3d(0, sec=sec), neuron.h.z3d(0, sec=sec)])\n",
    "        sec_end = np.array([neuron.h.x3d(n3d-1, sec=sec), neuron.h.y3d(n3d-1, sec=sec), neuron.h.z3d(n3d-1, sec=sec)])\n",
    "        center = (sec_start + sec_end) / 2\n",
    "        return center\n",
    "\n",
    "    def create_recordings(self):\n",
    "        self.recordings              = {}\n",
    "        self.recordings['t']         = neuron.h.Vector().record(neuron.h._ref_t)\n",
    "        self.recordings['soma(0.5)'] = neuron.h.Vector().record(neuron.h.cell.soma[0](0.5)._ref_v)\n",
    "\n",
    "    def add_synapse_L5PC_Clone1(self, thresh=10, delay=0., weight=0.004, secindex=4, x=0.5):\n",
    "        # Define the presynaptic Poisson discharge sequence\n",
    "        self.spikesource = neuron.h.NetStim()\n",
    "        self.spikesource.interval = 1000/50  # ms (mean) time between spikes \n",
    "        self.spikesource.number   = int(1e9) # (average) number of spikes \n",
    "        self.spikesource.start    = 1000     # ms (mean) start time of first spike (The first 1000 milliseconds are used for the membrane potential to reach the resting value.)\n",
    "        self.spikesource.noise    = 1        # range 0 to 1. Fractional randomness. 0 deterministic, 1 intervals have decaying exponential distribution\n",
    "        self.spikesource.seed(1)\n",
    "        # Define the double-exponential synaptic input\n",
    "        self.synapse = neuron.h.Exp2Syn(neuron.h.cell.apic[secindex](x)) # pyramidal neuron for apical dendrites\n",
    "        self.synapse.tau1 = 2\n",
    "        self.synapse.tau2 = 10\n",
    "        self.synapse.e    = 0\n",
    "        # Connect the presynaptic discharge sequence with the synaptic connection.\n",
    "        self.connection = neuron.h.NetCon(self.spikesource, self.synapse, thresh, delay, weight)\n",
    "        self.connection.delay = delay\n",
    "        self.connection.weight[0] = weight\n",
    "        \n",
    "    def add_synapse_L5PC_Clone2(self, thresh=10, delay=0., weight=0.004, secindex=3, x=0.5):\n",
    "        # Define the presynaptic Poisson discharge sequence\n",
    "        self.spikesource = neuron.h.NetStim()\n",
    "        self.spikesource.interval = 1000/50  # ms (mean) time between spikes \n",
    "        self.spikesource.number   = int(1e9) # (average) number of spikes \n",
    "        self.spikesource.start    = 1000     # ms (mean) start time of first spike (The first 1000 milliseconds are used for the membrane potential to reach the resting value.)\n",
    "        self.spikesource.noise    = 1        # range 0 to 1. Fractional randomness. 0 deterministic, 1 intervals have decaying exponential distribution\n",
    "        self.spikesource.seed(1)\n",
    "        # Define the double-exponential synaptic input\n",
    "        self.synapse = neuron.h.Exp2Syn(neuron.h.cell.apic[secindex](x)) # pyramidal neuron for apical dendrites\n",
    "        self.synapse.tau1 = 2\n",
    "        self.synapse.tau2 = 10\n",
    "        self.synapse.e    = 0\n",
    "        # Connect the presynaptic discharge sequence with the synaptic connection.\n",
    "        self.connection = neuron.h.NetCon(self.spikesource, self.synapse, thresh, delay, weight)\n",
    "        self.connection.delay = delay\n",
    "        self.connection.weight[0] = weight\n",
    "\n",
    "    def add_synapse_L5PC_Clone3(self, thresh=10, delay=0., weight=0.004, secindex=3, x=0.5):\n",
    "        # Define the presynaptic Poisson discharge sequence\n",
    "        self.spikesource = neuron.h.NetStim()\n",
    "        self.spikesource.interval = 1000/50  # ms (mean) time between spikes \n",
    "        self.spikesource.number   = int(1e9) # (average) number of spikes \n",
    "        self.spikesource.start    = 1000     # ms (mean) start time of first spike (The first 1000 milliseconds are used for the membrane potential to reach the resting value.)\n",
    "        self.spikesource.noise    = 1        # range 0 to 1. Fractional randomness. 0 deterministic, 1 intervals have decaying exponential distribution\n",
    "        self.spikesource.seed(1)\n",
    "        # Define the double-exponential synaptic input\n",
    "        self.synapse = neuron.h.Exp2Syn(neuron.h.cell.apic[secindex](x)) # pyramidal neuron for apical dendrites\n",
    "        self.synapse.tau1 = 2\n",
    "        self.synapse.tau2 = 10\n",
    "        self.synapse.e    = 0\n",
    "        # Connect the presynaptic discharge sequence with the synaptic connection.\n",
    "        self.connection = neuron.h.NetCon(self.spikesource, self.synapse, thresh, delay, weight)\n",
    "        self.connection.delay = delay\n",
    "        self.connection.weight[0] = weight\n",
    "        \n",
    "    def add_synapse_L5PC_Clone4(self, thresh=10, delay=0., weight=0.004, secindex=3, x=0.5):\n",
    "        # Define the presynaptic Poisson discharge sequence\n",
    "        self.spikesource = neuron.h.NetStim()\n",
    "        self.spikesource.interval = 1000/50  # ms (mean) time between spikes \n",
    "        self.spikesource.number   = int(1e9) # (average) number of spikes \n",
    "        self.spikesource.start    = 1000     # ms (mean) start time of first spike (The first 1000 milliseconds are used for the membrane potential to reach the resting value.)\n",
    "        self.spikesource.noise    = 1        # range 0 to 1. Fractional randomness. 0 deterministic, 1 intervals have decaying exponential distribution\n",
    "        self.spikesource.seed(1)\n",
    "        # Define the double-exponential synaptic input\n",
    "        self.synapse = neuron.h.Exp2Syn(neuron.h.cell.apic[secindex](x)) # pyramidal neuron for apical dendrites\n",
    "        self.synapse.tau1 = 2\n",
    "        self.synapse.tau2 = 10\n",
    "        self.synapse.e    = 0\n",
    "        # Connect the presynaptic discharge sequence with the synaptic connection.\n",
    "        self.connection = neuron.h.NetCon(self.spikesource, self.synapse, thresh, delay, weight)\n",
    "        self.connection.delay = delay\n",
    "        self.connection.weight[0] = weight\n",
    "        \n",
    "    def add_synapse_L5PC_Clone5(self, thresh=10, delay=0., weight=0.004, secindex=3, x=0.5):\n",
    "        # Define the presynaptic Poisson discharge sequence\n",
    "        self.spikesource = neuron.h.NetStim()\n",
    "        self.spikesource.interval = 1000/50  # ms (mean) time between spikes \n",
    "        self.spikesource.number   = int(1e9) # (average) number of spikes \n",
    "        self.spikesource.start    = 1000     # ms (mean) start time of first spike (The first 1000 milliseconds are used for the membrane potential to reach the resting value.)\n",
    "        self.spikesource.noise    = 1        # range 0 to 1. Fractional randomness. 0 deterministic, 1 intervals have decaying exponential distribution\n",
    "        self.spikesource.seed(1)\n",
    "        # Define the double-exponential synaptic input\n",
    "        self.synapse = neuron.h.Exp2Syn(neuron.h.cell.apic[secindex](x)) # pyramidal neuron for apical dendrites\n",
    "        self.synapse.tau1 = 2\n",
    "        self.synapse.tau2 = 10\n",
    "        self.synapse.e    = 0\n",
    "        # Connect the presynaptic discharge sequence with the synaptic connection.\n",
    "        self.connection = neuron.h.NetCon(self.spikesource, self.synapse, thresh, delay, weight)\n",
    "        self.connection.delay = delay\n",
    "        self.connection.weight[0] = weight\n",
    "\n",
    "    def run_simulation_withEF(self, dt=0.025, tstop=20.0, tvar=0., Evar=0.):\n",
    "        h.dt = dt\n",
    "        h.tstop = tstop\n",
    "        h.setstim_snowp()\n",
    "        h.stim_amp.from_python(Evar)\n",
    "        h.stim_time.from_python(tvar)\n",
    "        h.attach_stim()\n",
    "        neuron.h.finitialize(-70)\n",
    "        neuron.h.run()\n",
    "\n",
    "cell = Cell(16)"
   ]
  },
  {
   "cell_type": "markdown",
   "id": "ed9d7647-fe39-4c72-a514-35375cf901a3",
   "metadata": {},
   "source": [
    "# 0. Save the cell coordinate information"
   ]
  },
  {
   "cell_type": "code",
   "execution_count": 3,
   "id": "c6e71e6c-4390-4ff7-812f-0d040a10eb46",
   "metadata": {},
   "outputs": [],
   "source": [
    "def calc_cell_section_and_segment_coordinates(cellAllSections):\n",
    "    num_section = len(cellAllSections)\n",
    "    num_segment = sum([sec.nseg for sec in cellAllSections])\n",
    "    cell_section_names = []\n",
    "    cell_section_coordinates_start = np.zeros((num_section, 3))\n",
    "    cell_section_coordinates_end   = np.zeros((num_section, 3))\n",
    "    cell_section_coordinates_mid   = np.zeros((num_section, 3))\n",
    "    cell_section_diameter = np.zeros(num_section)\n",
    "    cell_segment_names = []\n",
    "    cell_segment_coordinates_start = np.zeros((num_segment, 3))\n",
    "    cell_segment_coordinates_end   = np.zeros((num_segment, 3))\n",
    "    cell_segment_coordinates_mid   = np.zeros((num_segment, 3))\n",
    "    cell_segment_diameter = np.zeros(num_segment)\n",
    "    \n",
    "    num_sec_seg = 0\n",
    "    for i, sec in enumerate(cellAllSections):\n",
    "        if 'soma' in sec.name():\n",
    "            cell_section_names.append('soma')\n",
    "        elif 'dend' in sec.name():\n",
    "            cell_section_names.append('basal')\n",
    "        elif 'apic' in sec.name():\n",
    "            cell_section_names.append('apic')\n",
    "        else:\n",
    "            cell_section_names.append('axon') \n",
    "\n",
    "        cell_section_diameter[i] = sec.diam\n",
    "        n3d = int(sec.n3d())\n",
    "        xx, yy, zz = np.zeros(n3d), np.zeros(n3d), np.zeros(n3d)\n",
    "        secLength = np.zeros(n3d)\n",
    "        for j in range(n3d):\n",
    "            secLength[j] = sec.arc3d(j)\n",
    "            xx[j], yy[j], zz[j] = sec.x3d(j), sec.y3d(j), sec.z3d(j)\n",
    "        secLength_norm = secLength / sec.arc3d(n3d-1)\n",
    "        nseg = int(sec.nseg)\n",
    "        for m, segment in enumerate(sec):\n",
    "            cell_segment_diameter[num_sec_seg+m] = segment.diam\n",
    "            cell_segment_names.append(cell_section_names[-1])\n",
    "        secRange = np.arange(0., (nseg+1)/nseg + 1/(2*nseg), 1/nseg)\n",
    "\n",
    "        segmentOfSection_xinterp_start = np.interp(secRange[:-2], secLength_norm, xx)\n",
    "        segmentOfSection_yinterp_start = np.interp(secRange[:-2], secLength_norm, yy)\n",
    "        segmentOfSection_zinterp_start = np.interp(secRange[:-2], secLength_norm, zz)\n",
    "\n",
    "        segmentOfSection_xinterp_end = np.interp(secRange[1:-1], secLength_norm, xx)\n",
    "        segmentOfSection_yinterp_end = np.interp(secRange[1:-1], secLength_norm, yy)\n",
    "        segmentOfSection_zinterp_end = np.interp(secRange[1:-1], secLength_norm, zz)\n",
    "\n",
    "        secRange -= 1 / (2 * nseg)\n",
    "        secRange[0] = 0.0\n",
    "        secRange[-1] = 1.0\n",
    "        segmentOfSection_xinterp_mid = np.interp(secRange, secLength_norm, xx)\n",
    "        segmentOfSection_yinterp_mid = np.interp(secRange, secLength_norm, yy)\n",
    "        segmentOfSection_zinterp_mid = np.interp(secRange, secLength_norm, zz)\n",
    "\n",
    "        sec_start = np.array([segmentOfSection_xinterp_mid[0], segmentOfSection_yinterp_mid[0], segmentOfSection_zinterp_mid[0]])\n",
    "        sec_end = np.array([segmentOfSection_xinterp_mid[-1], segmentOfSection_yinterp_mid[-1], segmentOfSection_zinterp_mid[-1]])\n",
    "        sec_mid = (sec_start + sec_end) / 2\n",
    "        cell_section_coordinates_start[i, :] = sec_start\n",
    "        cell_section_coordinates_end[i, :]   = sec_end\n",
    "        cell_section_coordinates_mid[i, :]   = sec_mid\n",
    "\n",
    "        seg_start = np.vstack((segmentOfSection_xinterp_start, segmentOfSection_yinterp_start, segmentOfSection_zinterp_start)).transpose()\n",
    "        seg_end = np.vstack((segmentOfSection_xinterp_end, segmentOfSection_yinterp_end, segmentOfSection_zinterp_end)).transpose()\n",
    "        seg_mid = np.vstack((segmentOfSection_xinterp_mid[1:-1], segmentOfSection_yinterp_mid[1:-1], segmentOfSection_zinterp_mid[1:-1])).transpose()\n",
    "        cell_segment_coordinates_start[num_sec_seg:num_sec_seg + nseg, :] = seg_start\n",
    "        cell_segment_coordinates_end[num_sec_seg:num_sec_seg + nseg, :] = seg_end\n",
    "        cell_segment_coordinates_mid[num_sec_seg:num_sec_seg + nseg, :] = seg_mid\n",
    "        num_sec_seg += nseg\n",
    "    \n",
    "\n",
    "    index_soma  = np.array([i for i, item in enumerate(cell_section_names) if item=='soma'])\n",
    "    index_basal = np.array([i for i, item in enumerate(cell_section_names) if item=='basal'])\n",
    "    index_apic  = np.array([i for i, item in enumerate(cell_section_names) if item=='apic'])\n",
    "    index_axon  = np.array([i for i, item in enumerate(cell_section_names) if item=='axon'])\n",
    "    section_coords = {\n",
    "        'cell_section_names': cell_section_names,\n",
    "        'cell_section_coordinates_start': cell_section_coordinates_start,\n",
    "        'cell_section_coordinates_end': cell_section_coordinates_end,\n",
    "        'cell_section_coordinates_mid': cell_section_coordinates_mid,\n",
    "        'index_soma_section': index_soma,\n",
    "        'index_basal_section': index_basal,\n",
    "        'index_apic_section': index_apic,\n",
    "        'index_axon_section': index_axon,\n",
    "        'cell_section_diameter': cell_section_diameter}\n",
    "\n",
    "    index_soma  = np.array([i for i, item in enumerate(cell_segment_names) if item=='soma'])\n",
    "    index_basal = np.array([i for i, item in enumerate(cell_segment_names) if item=='basal'])\n",
    "    index_apic  = np.array([i for i, item in enumerate(cell_segment_names) if item=='apic'])\n",
    "    index_axon  = np.array([i for i, item in enumerate(cell_segment_names) if item=='axon'])\n",
    "    segment_coords = {\n",
    "        'cell_segment_names': cell_segment_names,\n",
    "        'cell_segment_coordinates_start': cell_segment_coordinates_start,\n",
    "        'cell_segment_coordinates_end': cell_segment_coordinates_end,\n",
    "        'cell_segment_coordinates_mid': cell_segment_coordinates_mid,\n",
    "        'index_soma_segment': index_soma,\n",
    "        'index_basal_segment': index_basal,\n",
    "        'index_apic_segment': index_apic,\n",
    "        'index_axon_segment': index_axon,\n",
    "        'cell_segment_diameter': cell_segment_diameter }\n",
    "    return section_coords, segment_coords\n",
    "\n",
    "\n",
    "cell_name = 'L5PC_Clone1'\n",
    "section_coords, segment_coords = calc_cell_section_and_segment_coordinates(cell.allSections)\n",
    "data = {'section_coords': section_coords, 'segment_coords': segment_coords}\n",
    "savePath = r'C:\\Users\\Snowp\\PycharmProjects\\pythonProject\\24_tACS_PLV\\data_paper\\%s_coordinates_sectionAndSegment.npy' % cell_name\n",
    "if not os.path.exists(savePath):\n",
    "    print('Save successfully.')\n",
    "    np.save(savePath, data)"
   ]
  },
  {
   "cell_type": "markdown",
   "id": "c0c9e46e-6b16-4c60-a4de-0dbd0799443e",
   "metadata": {},
   "source": [
    "# 1. Determine the synaptic input location（apic[4] (0.5)）"
   ]
  },
  {
   "cell_type": "code",
   "execution_count": 7,
   "id": "513a3ad4-3869-46e1-8df4-5290bdebc221",
   "metadata": {},
   "outputs": [],
   "source": [
    "idx_soma  = np.array([i for i, sec in enumerate(cell.allSections) if 'soma' in sec.name()])\n",
    "idx_basal = np.array([i for i, sec in enumerate(cell.allSections) if 'dend' in sec.name()])\n",
    "idx_apic  = np.array([i for i, sec in enumerate(cell.allSections) if 'apic' in sec.name()])\n",
    "idx_axon  = np.array([i for i, sec in enumerate(cell.allSections) if  not ('soma' in sec.name() \\\n",
    "                      or 'dend' in sec.name() or 'apic' in sec.name())])\n",
    "plot_coordinates = []\n",
    "for item in [idx_axon, idx_basal, idx_apic]:\n",
    "    numSec = len(item)\n",
    "    coords = np.full((3, 3*numSec), np.nan)\n",
    "    for i in range(numSec):\n",
    "        coords[:, i*3] = cell.cell_section_coordinates_start[item[i], :]\n",
    "        coords[:, i*3+1] = cell.cell_section_coordinates_end[item[i], :]\n",
    "    plot_coordinates.append(coords)"
   ]
  },
  {
   "cell_type": "code",
   "execution_count": 8,
   "id": "b6c643cf-54ee-45dc-9e4c-084df7472131",
   "metadata": {},
   "outputs": [
    {
     "name": "stdout",
     "output_type": "stream",
     "text": [
      "[  3.69203104  12.54511638  20.70820283  42.59283474  77.20043952\n",
      " 103.84836943 118.09401302 176.17065635 244.38063645 267.13794023\n",
      " 320.50790553 410.47535742 462.16338842 556.75630789 687.27181744\n",
      " 817.24085054 979.05247335 968.50448614 989.93020839]\n",
      "selected synaptic input position is cADpyr232_L5_TTPC2_8052133265[0].apic[4] with distance=77.20 mm\n"
     ]
    }
   ],
   "source": [
    "def find_primary_dendrite_branches(allSections, subcellular_name='dend'):\n",
    "    children_secLists = [sec for sec in allSections[0].children() if subcellular_name in sec.name()]\n",
    "    num_children = len(children_secLists)\n",
    "    primary_branches = []\n",
    "    while num_children > 0:\n",
    "        children_diameters = np.array([sec.diam for sec in children_secLists])\n",
    "        idx_max_diam = np.argmax(children_diameters)\n",
    "        primary_branches.append(children_secLists[idx_max_diam])\n",
    "        \n",
    "        children_secLists = [sec for sec in children_secLists[-1].children()]\n",
    "        num_children = len(children_secLists)\n",
    "    return primary_branches\n",
    "\n",
    "'''Determine the synaptic location'''\n",
    "main_apic_dendrite = find_primary_dendrite_branches(cell.allSections, subcellular_name='apic')\n",
    "main_apic_dendrite_name = [sec.name() for sec in main_apic_dendrite]\n",
    "main_apic_dendrite_diam = np.array([sec.diam for sec in main_apic_dendrite])\n",
    "main_apic_dendrite_distance_to_soma =  np.array([neuron.h.distance(cell.allSections[0](0.5), sec(0.5)) for sec in main_apic_dendrite])\n",
    "# print(main_apic_dendrite_name)\n",
    "# print(main_apic_dendrite_diam)\n",
    "print(main_apic_dendrite_distance_to_soma)\n",
    "selected_index = 4\n",
    "print('selected synaptic input position is %s with distance=%.2f mm' % \\\n",
    "      (main_apic_dendrite_name[selected_index], main_apic_dendrite_distance_to_soma[selected_index]))"
   ]
  },
  {
   "cell_type": "code",
   "execution_count": 9,
   "id": "2a067c3a-acf1-47ed-898f-c653d68f031c",
   "metadata": {},
   "outputs": [
    {
     "data": {
      "text/plain": [
       "Text(0.5, 1.0, 'Synapse: apic[4](0.5), 77.2004 μm')"
      ]
     },
     "execution_count": 9,
     "metadata": {},
     "output_type": "execute_result"
    },
    {
     "data": {
      "image/png": "[encoded data removed]",
      "text/plain": [
       "<Figure size 300x300 with 1 Axes>"
      ]
     },
     "metadata": {},
     "output_type": "display_data"
    }
   ],
   "source": [
    "fig = plt.figure(figsize=(3, 3))\n",
    "ax  = fig.add_subplot(111)\n",
    "colors = ['r', 'g', 'b']\n",
    "for i in range(3):\n",
    "    ax.plot(plot_coordinates[i][0], plot_coordinates[i][2], color=colors[i], lw=0.8, alpha=0.8, zorder=-1) # x-z plane\n",
    "soma_center = cell.get_section_center(cell.allSections[0])\n",
    "ax.scatter(soma_center[0], soma_center[2], s=20, color='k', zorder=0)\n",
    "\n",
    "synapse_center = cell.get_section_center(neuron.h.cell.apic[4])\n",
    "ax.scatter(synapse_center[0], synapse_center[2], s=100, fc='cyan', ec='k', zorder=0, marker='*', lw=0.5)\n",
    "\n",
    "ax.axis('equal')\n",
    "# ax.axis('off')\n",
    "ax.set_xlabel('x-axis (μm)', fontsize=10)\n",
    "ax.set_ylabel('z-axis (μm)', fontsize=10)\n",
    "ax.set_title('Synapse: apic[4](0.5), %.4f μm' % neuron.h.distance(cell.allSections[0](0.5), h.cell.apic[4](0.5)), \\\n",
    "            fontsize=10, weight='bold')"
   ]
  },
  {
   "cell_type": "code",
   "execution_count": 10,
   "id": "ddceb54a-f3b8-4fa3-904a-daf6b2899e65",
   "metadata": {},
   "outputs": [
    {
     "data": {
      "text/plain": [
       "(-599.4510833740235, 1000.8750946044922, -920.994839477539, 1312.3978546142578)"
      ]
     },
     "execution_count": 10,
     "metadata": {},
     "output_type": "execute_result"
    },
    {
     "data": {
      "image/png": "[encoded data removed]",
      "text/plain": [
       "<Figure size 200x200 with 1 Axes>"
      ]
     },
     "metadata": {},
     "output_type": "display_data"
    }
   ],
   "source": [
    "fig = plt.figure(figsize=(2, 2))\n",
    "ax  = fig.add_subplot(111)\n",
    "colors = ['r', 'g', 'b']\n",
    "for i in range(3):\n",
    "    ax.plot(plot_coordinates[i][0], plot_coordinates[i][2], color=colors[i], lw=1.3, alpha=0.8, zorder=-1) # x-z plane\n",
    "soma_center = cell.get_section_center(cell.allSections[0])\n",
    "ax.scatter(soma_center[0], soma_center[2], s=20, color='k', zorder=0)\n",
    "\n",
    "synapse_center = cell.get_section_center(neuron.h.cell.apic[4])\n",
    "ax.scatter(synapse_center[0], synapse_center[2], s=20, fc='magenta', ec=None, zorder=0, marker='o', lw=0.5)\n",
    "x, y, dxy = 400, 600, 300\n",
    "ax.plot([x, x+dxy], [y, y], lw=2, color='k')\n",
    "ax.plot([x, x], [y, y+dxy], lw=2, color='k')\n",
    "\n",
    "ax.axis('equal')\n",
    "ax.axis('off')"
   ]
  },
  {
   "cell_type": "markdown",
   "id": "13cbf851-dda6-4112-96ce-cf787a36e013",
   "metadata": {},
   "source": [
    "# 2. Determine the synaptic input weights（prefr=50Hz, weight=0.031）"
   ]
  },
  {
   "cell_type": "code",
   "execution_count": 6,
   "id": "65b83ccb-7cbe-4b50-9e94-f1b3bd54e0d5",
   "metadata": {},
   "outputs": [
    {
     "name": "stdout",
     "output_type": "stream",
     "text": [
      "Wall time: 4min 21s\n"
     ]
    },
    {
     "data": {
      "text/plain": [
       "10.800000000035753"
      ]
     },
     "execution_count": 6,
     "metadata": {},
     "output_type": "execute_result"
    }
   ],
   "source": [
    "%%time\n",
    "if not hasattr(cell, 'synapse'):\n",
    "    cell.add_synapse_L5PC_Clone1()\n",
    "cell.spikesource.interval = 1000/50\n",
    "cell.spikesource.start    = 1000\n",
    "cell.spikesource.noise    = 1\n",
    "cell.connection.weight[0] = 0.031\n",
    "# run simulation to calculate firing rate\n",
    "dt       = 0.05\n",
    "DEL, DUR = 1e3, 5e3\n",
    "tstop    = DEL + DUR + 0\n",
    "tvar = np.arange(0, tstop, dt)\n",
    "Evar = np.zeros_like(tvar)\n",
    "cell.run_simulation_withEF(dt=dt, tstop=tstop, tvar=tvar, Evar=Evar)\n",
    "t     = cell.recordings['t'].to_python()[50:]\n",
    "vsoma = cell.recordings['soma(0.5)'].to_python()[50:]\n",
    "t, vsoma = np.array(t), np.array(vsoma)\n",
    "_, _, firingRate, spikeNumber = calcSpikeTime_spikeIndex_FiringRate_spikeNumber_fromVth(vsoma, t, Vth=0.0)\n",
    "firingRate"
   ]
  },
  {
   "cell_type": "markdown",
   "id": "6c9f9273-58b4-4a0d-a6b8-1db554534b73",
   "metadata": {},
   "source": [
    "# 3. Determine the random number seed（3722）"
   ]
  },
  {
   "cell_type": "code",
   "execution_count": 2,
   "id": "c53525bd-6ff1-42d9-a11b-fc5d25476f0f",
   "metadata": {},
   "outputs": [
    {
     "name": "stdout",
     "output_type": "stream",
     "text": [
      "Mean plv is 0.0346\n",
      "Selected seed is 3722\n"
     ]
    },
    {
     "data": {
      "text/plain": [
       "(31, 0.035183349093201775)"
      ]
     },
     "execution_count": 2,
     "metadata": {},
     "output_type": "execute_result"
    }
   ],
   "source": [
    "cell_name = 'L5PC_Clone1'\n",
    "dataPath = r'C:/Users/Snowp/PycharmProjects/pythonProject/24_tACS_PLV/neuron_others/data/%s_phase_entrainment_40_random_seeds_1mVmm_10Hz.p' % cell_name\n",
    "data = pickle.load(open(dataPath, 'rb'))\n",
    "list_plv = np.array([item[0] for item in data])\n",
    "list_fr  = np.array([item[5] for item in data])\n",
    "np.random.seed(82412)\n",
    "list_seeds = np.array(sorted(np.random.choice(np.arange(1, 5000), 40, replace=False)))\n",
    "\n",
    "print('Mean plv is %.4f' % list_plv.mean())\n",
    "list_diffplv = list_plv - list_plv.mean()\n",
    "list_diffplv_positive = list_diffplv[list_diffplv > 0]\n",
    "selected_seed = list_seeds[list_diffplv > 0][np.argmin(list_diffplv_positive)]\n",
    "print('Selected seed is %d' % selected_seed)\n",
    "list_seeds.tolist().index(selected_seed), list_plv[list_seeds.tolist().index(selected_seed)]"
   ]
  },
  {
   "cell_type": "code",
   "execution_count": 2,
   "id": "6c9a6ef6-9d27-41d1-bc8b-df86edd1ca1c",
   "metadata": {},
   "outputs": [
    {
     "name": "stdout",
     "output_type": "stream",
     "text": [
      "PLV min = 0.0016, PLV max = 0.0355\n"
     ]
    }
   ],
   "source": [
    "list_index = [[0, 100], [100, 200], [200, 300], [300, 410]]\n",
    "data_410_direction = [None]*410\n",
    "cell_name = 'L5PC_Clone1'\n",
    "for i, idx in enumerate(list_index):\n",
    "    dataPath = 'data/%s_PLV_sensitivity_to_Efield_410_directions_index%d-%d.p' % (cell_name, idx[0], idx[1])\n",
    "    data = pickle.load(open(dataPath, 'rb'))\n",
    "    data_410_direction[idx[0]:idx[1]] = data\n",
    "plv_410_direction = np.array([item[0] for item in data_410_direction])\n",
    "print('PLV min = %.4f, PLV max = %.4f' % (plv_410_direction.min(), plv_410_direction.max()))"
   ]
  },
  {
   "cell_type": "code",
   "execution_count": 6,
   "id": "52d96ea5-8920-45fb-a587-eda28433f59b",
   "metadata": {},
   "outputs": [
    {
     "data": {
      "text/plain": [
       "(-3.141592653589793,\n",
       " 3.141592653589793,\n",
       " -1.5707963267948966,\n",
       " 1.5707963267948966)"
      ]
     },
     "execution_count": 6,
     "metadata": {},
     "output_type": "execute_result"
    },
    {
     "data": {
      "image/png": "[encoded data removed]",
      "text/plain": [
       "<Figure size 600x500 with 1 Axes>"
      ]
     },
     "metadata": {},
     "output_type": "display_data"
    }
   ],
   "source": [
    "list_theta = np.arange(0, 181, 10)\n",
    "list_phi   = np.arange(0, 361, 15)\n",
    "list_theta = np.deg2rad(list_theta - 90)\n",
    "list_phi   = np.deg2rad(list_phi - 180)\n",
    "matrix_plv = np.zeros((len(list_theta), len(list_phi)))\n",
    "matrix_plv[0, :] += plv_410_direction[0]\n",
    "num = 1\n",
    "for i in range(1, len(list_theta)-1):\n",
    "    for j in range(len(list_phi) - 1):\n",
    "        matrix_plv[i, j] = plv_410_direction[num]\n",
    "        num += 1\n",
    "    matrix_plv[i, -1] = plv_410_direction[num-len(list_phi) + 1]\n",
    "interp_func = scipy.interpolate.interp2d(list_phi, list_theta, matrix_plv, kind='linear')\n",
    "x = np.linspace(list_phi[0], list_phi[-1], 361*2)\n",
    "y = np.linspace(list_theta[0], list_theta[-1], 181*2)\n",
    "matrix_plv_interp = interp_func(x, y)\n",
    "\n",
    "## plot plv-direction sensitivity\n",
    "import matplotlib.colors as colors\n",
    "fig = plt.figure(figsize=(6, 5))\n",
    "ax = fig.add_subplot(1, 2, 1, projection=\"mollweide\")\n",
    "norm = colors.Normalize(vmin=matrix_plv.min(), vmax=matrix_plv.max())\n",
    "# ax.pcolormesh(list_phi, list_theta, np.flip(matrix_plv, axis=0), shading='auto', cmap='Oranges', norm=norm)\n",
    "ax.pcolormesh(x, y, np.flip(matrix_plv_interp, axis=0), shading='auto', cmap='Oranges', norm=norm)\n",
    "\n",
    "# ax.set_xticks(np.radians(np.arange(-180, 181, 60)))\n",
    "# ax.set_xticklabels(['90°', '150°', '210°', '270°', '330°', '30°', '90°'])\n",
    "# ax.set_yticks(np.radians(np.arange(-60, 61, 30)))\n",
    "# ax.set_yticklabels(['150°', '120°', '90°', '60°', '30°'])\n",
    "ax.axis('off')"
   ]
  },
  {
   "cell_type": "code",
   "execution_count": 7,
   "id": "3bc060da-8729-4cc3-a36c-545e4cec9570",
   "metadata": {},
   "outputs": [
    {
     "data": {
      "text/plain": [
       "(-3.141592653589793,\n",
       " 3.141592653589793,\n",
       " -1.5707963267948966,\n",
       " 1.5707963267948966)"
      ]
     },
     "execution_count": 7,
     "metadata": {},
     "output_type": "execute_result"
    },
    {
     "data": {
      "image/png": "[encoded data removed]",
      "text/plain": [
       "<Figure size 600x500 with 1 Axes>"
      ]
     },
     "metadata": {},
     "output_type": "display_data"
    }
   ],
   "source": [
    "dataPath = 'data/%s_polarization_sensitivity_to_Efield_410_directions.p' % cell_name\n",
    "data = pickle.load(open(dataPath, 'rb'))\n",
    "polarization_410_direction = np.array([item[1] for item in data])\n",
    "list_theta = np.arange(0, 181, 10)\n",
    "list_phi   = np.arange(0, 361, 15)\n",
    "list_theta = np.deg2rad(list_theta - 90)\n",
    "list_phi   = np.deg2rad(list_phi - 180)\n",
    "matrix_polarization = np.zeros((len(list_theta), len(list_phi)))\n",
    "matrix_polarization[0, :] += polarization_410_direction[0]\n",
    "num = 1\n",
    "for i in range(1, len(list_theta)-1):\n",
    "    for j in range(len(list_phi) - 1):\n",
    "        matrix_polarization[i, j] = polarization_410_direction[num]\n",
    "        num += 1\n",
    "    matrix_polarization[i, -1] = polarization_410_direction[num-len(list_phi) + 1]\n",
    "interp_func = scipy.interpolate.interp2d(list_phi, list_theta, matrix_polarization, kind='linear')\n",
    "x = np.linspace(list_phi[0], list_phi[-1], 361*2)\n",
    "y = np.linspace(list_theta[0], list_theta[-1], 181*2)\n",
    "matrix_polarization_interp = interp_func(x, y)\n",
    "\n",
    "\n",
    "## plot polarization-direction sensitivity\n",
    "import matplotlib.colors as colors\n",
    "fig = plt.figure(figsize=(6, 5))\n",
    "ax = fig.add_subplot(1, 2, 1, projection=\"mollweide\")\n",
    "norm = colors.Normalize(vmin=matrix_polarization_interp.min(), vmax=matrix_polarization_interp.max())\n",
    "ax.pcolormesh(x, y, np.flip(matrix_polarization_interp, axis=0), shading='auto', cmap='Blues', norm=norm)\n",
    "\n",
    "# ax.set_xticks(np.radians(np.arange(-180, 181, 60)))\n",
    "# ax.set_xticklabels(['90°', '150°', '210°', '270°', '330°', '30°', '90°'])\n",
    "# ax.set_yticks(np.radians(np.arange(-60, 61, 30)))\n",
    "# ax.set_yticklabels(['150°', '120°', '90°', '60°', '30°'])\n",
    "ax.axis('off')"
   ]
  },
  {
   "cell_type": "code",
   "execution_count": 8,
   "id": "1b5633a2-777b-4417-8046-36a32a92e633",
   "metadata": {},
   "outputs": [
    {
     "name": "stdout",
     "output_type": "stream",
     "text": [
      "0.9661201223180181 0.8721164440880841 0.8264730741975552\n"
     ]
    },
    {
     "data": {
      "image/png": "[encoded data removed]",
      "text/plain": [
       "<Figure size 180x120 with 2 Axes>"
      ]
     },
     "metadata": {},
     "output_type": "display_data"
    }
   ],
   "source": [
    "'''plv - polarization 相关性'''\n",
    "matrix_data = matrix_polarization\n",
    "value_min, value_max = matrix_data.min(), matrix_data.max()\n",
    "matrix_data_norm = np.zeros_like(matrix_data)\n",
    "for i in range(matrix_data.shape[0]):\n",
    "    for j in range(matrix_data.shape[1]):\n",
    "        matrix_data_norm[i, j] = (matrix_data[i, j] - value_min) / (value_max - value_min)\n",
    "xUpward, xDownward = matrix_data_norm[:10].flatten(), matrix_data_norm[11:].flatten()\n",
    "yUpward, yDownward = matrix_plv[:10].flatten(), matrix_plv[11:].flatten()\n",
    "xDownward, yDownward = -xDownward, -yDownward\n",
    "# 线性回归upward + downward\n",
    "x = np.hstack((xDownward, xUpward))\n",
    "y = np.hstack((yDownward, yUpward))\n",
    "slope, intercept = np.polyfit(x, y, 1)\n",
    "xfit = np.linspace(-1.05, 1.05, 2000)\n",
    "yfit = slope * xfit + intercept\n",
    "ypre = slope * x + intercept\n",
    "R2 = 1 - np.sum((y-ypre)**2) / np.sum((y-y.mean())**2)\n",
    "# 线性回归upward\n",
    "x, y = xUpward, yUpward\n",
    "slope, intercept = np.polyfit(x, y, 1)\n",
    "xfit_upward = np.linspace(0, 1.05, 2000)\n",
    "yfit_upward = slope * xfit_upward + intercept\n",
    "ypre = slope * x + intercept\n",
    "R2_upward = 1 - np.sum((y-ypre)**2) / np.sum((y-y.mean())**2)\n",
    "# 线性回归upward\n",
    "x, y = xDownward, yDownward\n",
    "slope, intercept = np.polyfit(x, y, 1)\n",
    "xfit_downward = np.linspace(-1.05, 0, 2000)\n",
    "yfit_downward = slope * xfit_downward + intercept\n",
    "ypre = slope * x + intercept\n",
    "R2_downward = 1 - np.sum((y-ypre)**2) / np.sum((y-y.mean())**2)\n",
    "\n",
    "print(R2, R2_upward, R2_downward)\n",
    "\n",
    "# 绘图\n",
    "fig, ax = plt.subplots(1, 1, figsize=(1.8, 1.2))\n",
    "ax.scatter(xUpward, yUpward, s=3, fc='r', ec='none', label='upward', alpha=1)\n",
    "ax.scatter(xDownward, yDownward, s=3, fc='b', ec='none', label='downward', alpha=1)\n",
    "ax.plot(xfit, yfit, lw=1.5, color='k', ls='-', label='Linear')\n",
    "ax.plot(xfit_upward, yfit_upward, lw=1.5, color='cyan', ls='-', alpha=1)\n",
    "ax.plot(xfit_downward, yfit_downward, lw=1.5, color='magenta', ls='-', alpha=1)\n",
    "ax.axvline(0, lw=0.5, ls='--', color='gray')\n",
    "ax.axhline(0, lw=0.5, ls='--', color='gray')\n",
    "ax.set_xlim(-1.05, 1.05)\n",
    "ax.set_xticks(np.arange(-1, 1.1, 1))\n",
    "ax.set_ylim(-0.03, 0.03)\n",
    "# ax.set_yticks(np.arange(-0.06, 0.061, 0.06))\n",
    "ax.set_xlabel(r'$\\Delta$Vm (norm.)', fontsize=9, labelpad=2, fontfamily='times new roman')\n",
    "ax.set_ylabel('PLV', fontsize=9, labelpad=0, fontfamily='times new roman')\n",
    "ax.spines['right'].set_color('none')\n",
    "ax.spines['top'].set_color('none')\n",
    "ax.spines['bottom'].set_linewidth(1)\n",
    "ax.spines['left'].set_linewidth(1)\n",
    "ax.tick_params(axis='both', pad=2, direction='in', labelsize=8, width=1, length=3, labelfontfamily='times new roman')\n",
    "# ax.set_title('$R^2=$%.3f' % R2, fontdict={'family':'times new roman'}, fontsize=9)\n",
    "\n",
    "ax_sub = fig.add_axes([0.24, 0.6, 0.21, 0.25])\n",
    "ax_sub.bar([0, 1, 2], [R2, R2_upward, R2_downward], width=0.8, color=['k', 'cyan', 'magenta'], alpha=0.6)\n",
    "ax_sub.set_xlim(-0.7, 2.5)\n",
    "ax_sub.set_ylim(0, 1)\n",
    "ax_sub.grid(True, ls='--')\n",
    "ax_sub.spines['right'].set_color('none')\n",
    "ax_sub.spines['top'].set_color('none')\n",
    "ax_sub.spines['bottom'].set_linewidth(1)\n",
    "ax_sub.spines['left'].set_linewidth(1)\n",
    "ax_sub.set_xticks([])\n",
    "ax_sub.set_yticks([0, 0.5, 1])\n",
    "ax_sub.tick_params(axis='both', pad=1, direction='in', labelsize=7, width=1, length=2, labelfontfamily='times new roman')\n",
    "# ax_sub.axis('off')"
   ]
  },
  {
   "cell_type": "code",
   "execution_count": null,
   "id": "26b2263b-8b55-481b-ab5a-a8912393ee69",
   "metadata": {},
   "outputs": [],
   "source": []
  }
 ],
 "metadata": {
  "kernelspec": {
   "display_name": "Python 3 (ipykernel)",
   "language": "python",
   "name": "python3"
  },
  "language_info": {
   "codemirror_mode": {
    "name": "ipython",
    "version": 3
   },
   "file_extension": ".py",
   "mimetype": "text/x-python",
   "name": "python",
   "nbconvert_exporter": "python",
   "pygments_lexer": "ipython3",
   "version": "3.9.12"
  }
 },
 "nbformat": 4,
 "nbformat_minor": 5
}
