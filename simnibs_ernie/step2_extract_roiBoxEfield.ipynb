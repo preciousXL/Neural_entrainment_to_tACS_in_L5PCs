{
 "cells": [
  {
   "cell_type": "code",
   "execution_count": 1,
   "id": "64e51226-1c25-4232-aa07-04b9d7b5324d",
   "metadata": {},
   "outputs": [],
   "source": [
    "import numpy as np\n",
    "import os, time, sys\n",
    "import simnibs\n",
    "from simnibs import sim_struct, run_simnibs\n",
    "from mpl_toolkits.mplot3d import Axes3D\n",
    "import matplotlib.pyplot as plt\n",
    "import scipy\n",
    "\n",
    "def find_elements_composed_by_given_nodes(mesh, node_number):\n",
    "    # mesh: origin .msh\n",
    "    # node_number: roi node number (>0)\n",
    "    node_coord = mesh.nodes.node_coord\n",
    "    node_number_set = set(node_number)\n",
    "    elm_node_number_list = mesh.elm.node_number_list[:, :3]\n",
    "    elm_node_number_index = np.array([i for i in range(mesh.elm.nr) if len(node_number_set & set(elm_node_number_list[i])) == 3])\n",
    "    crop_elm_number = mesh.elm.elm_number[elm_node_number_index]\n",
    "    return crop_elm_number"
   ]
  },
  {
   "cell_type": "markdown",
   "id": "bd8149e8-b2f5-4f86-8f4f-8e692aeab7f3",
   "metadata": {},
   "source": [
    "# 1. Extract the Efield vectors within the ROI box area and save the result"
   ]
  },
  {
   "cell_type": "code",
   "execution_count": 2,
   "id": "6e5c029f-495f-45a1-b3c6-0287aef8f2c3",
   "metadata": {
    "editable": true,
    "slideshow": {
     "slide_type": ""
    },
    "tags": []
   },
   "outputs": [],
   "source": [
    "m2m_folder  = r'H:\\3Headmodel\\snowp\\m2m_ernie'  # ernie head model file path\n",
    "sim_folder  = os.path.join(m2m_folder, '..\\\\tacs_2mA')\n",
    "filename    = 'ernie_TDCS_1_scalar.msh'  # simulated results\n",
    "head_mesh   = simnibs.read_msh(os.path.join(sim_folder,  filename))\n",
    "gray_matter = head_mesh.crop_mesh(simnibs.ElementTags.GM) # Efield and mesh information of the gray matter\n",
    "# gray_matter.view().show() # showing results in Gmsh software"
   ]
  },
  {
   "cell_type": "code",
   "execution_count": 3,
   "id": "9d006490-3c25-439a-b7c7-3c5b321dc8c1",
   "metadata": {
    "editable": true,
    "slideshow": {
     "slide_type": ""
    },
    "tags": []
   },
   "outputs": [
    {
     "name": "stdout",
     "output_type": "stream",
     "text": [
      "ROI box region:  [-63. -23.  28.] [-6. 32. 80.]\n"
     ]
    }
   ],
   "source": [
    "'''Define the ROI box region'''\n",
    "gm_roi  = simnibs.read_msh(os.path.join(m2m_folder, 'meshlab_file', 'pial_roi.msh'))\n",
    "wm_roi  = simnibs.read_msh(os.path.join(m2m_folder, 'meshlab_file', 'white_roi.msh'))\n",
    "ROIMesh = np.zeros((2, 3))\n",
    "ROIMesh[0] = np.vstack((gm_roi.nodes.node_coord.min(axis=0), wm_roi.nodes.node_coord.min(axis=0))).min(axis=0)\n",
    "ROIMesh[1] = np.vstack((gm_roi.nodes.node_coord.max(axis=0), wm_roi.nodes.node_coord.max(axis=0))).max(axis=0)\n",
    "ROIMesh[0] = np.floor(ROIMesh[0])\n",
    "ROIMesh[1] = np.ceil(ROIMesh[1])\n",
    "print('ROI box region: ', ROIMesh[0], ROIMesh[1])\n",
    "\n",
    "'''Extract the electric field information in the box area and display the result'''\n",
    "elm_centers = gray_matter.elements_baricenters().value  # elment center\n",
    "index_x   = np.logical_and(elm_centers.transpose()[0] >= ROIMesh[0, 0], elm_centers.transpose()[0] <= ROIMesh[1, 0])\n",
    "index_y   = np.logical_and(elm_centers.transpose()[1] >= ROIMesh[0, 1], elm_centers.transpose()[1] <= ROIMesh[1, 1])\n",
    "index_z   = np.logical_and(elm_centers.transpose()[2] >= ROIMesh[0, 2], elm_centers.transpose()[2] <= ROIMesh[1, 2])\n",
    "index_roi = np.logical_and(index_x,  np.logical_and(index_y, index_z)) # np.logical_and is only applicable to the logical AND operation of two operands.\n",
    "roi_elm_numbers = gray_matter.elm.elm_number[index_roi]            \n",
    "roi_mesh = gray_matter.crop_mesh(elements=roi_elm_numbers)          \n",
    "# roi_mesh.view().show()  # showing result in Gmsh\n",
    "roi_max_connected_elm_index = np.argmax([len(item) for item in roi_mesh.elm.connected_components()]) \n",
    "roi_max_connected_elm_number = roi_mesh.elm.connected_components()[roi_max_connected_elm_index]     \n",
    "roi_connected_mesh = roi_mesh.crop_mesh(elements=roi_max_connected_elm_number)                      \n",
    "if False:\n",
    "    roi_connected_mesh.view().show()"
   ]
  },
  {
   "cell_type": "code",
   "execution_count": 4,
   "id": "dbbfb3dd-df32-4967-b119-ac7378e4bb0b",
   "metadata": {},
   "outputs": [
    {
     "name": "stdout",
     "output_type": "stream",
     "text": [
      "['E', 'magnE', 'J', 'magnJ']\n",
      "ROI expand box ranges： [-65. -25.  26.] [-4. 34. 82.]\n"
     ]
    }
   ],
   "source": [
    "print([head_mesh.elmdata[i].field_name for i in range(len(head_mesh.elmdata))])\n",
    "'''Save Efiled vectors within the expand ROI box'''\n",
    "# Expand the above-mentioned box area outward by 2mm to ensure that all neurons are included.\n",
    "expand_factor = 2 # mm\n",
    "ROI_expand    = np.zeros_like(ROIMesh)\n",
    "ROI_expand[0] = ROIMesh[0] - expand_factor\n",
    "ROI_expand[1] = ROIMesh[1] + expand_factor\n",
    "print('ROI expand box ranges：', ROI_expand[0], ROI_expand[1])\n",
    "\n",
    "savePath = r'C:\\Users\\Snowp\\PycharmProjects\\pythonProject\\24_tACS_PLV\\data\\ROIBox_Evector.npy' # save path\n",
    "if not os.path.exists(savePath):\n",
    "    '''Extract the electric field vector information of all nodes within the expand box area.'''\n",
    "    nodedata_Evector = head_mesh.elmdata[0].elm_data2node_data()  # or   .as_nodedata()\n",
    "    node_coords = head_mesh.nodes.node_coord\n",
    "    index_x = np.logical_and(node_coords.transpose()[0] >= ROI_expand[0, 0], node_coords.transpose()[0] <= ROI_expand[1, 0])\n",
    "    index_y = np.logical_and(node_coords.transpose()[1] >= ROI_expand[0, 1], node_coords.transpose()[1] <= ROI_expand[1, 1])\n",
    "    index_z = np.logical_and(node_coords.transpose()[2] >= ROI_expand[0, 2], node_coords.transpose()[2] <= ROI_expand[1, 2])\n",
    "    node_index_in_expand_box = np.logical_and(index_x,  np.logical_and(index_y, index_z))\n",
    "    Efield_position_node = node_coords[node_index_in_expand_box, :]\n",
    "    Efield_vector_node   = nodedata_Evector[node_index_in_expand_box, :]\n",
    "    \n",
    "    '''Extract the electric field vector information of the center of all elements within the expand box area.'''\n",
    "    elm_centers = head_mesh.elements_baricenters().value  # 计算四面体元素的重心\n",
    "    index_x = np.logical_and(elm_centers.transpose()[0] >= ROI_expand[0, 0], elm_centers.transpose()[0] <= ROI_expand[1, 0])\n",
    "    index_y = np.logical_and(elm_centers.transpose()[1] >= ROI_expand[0, 1], elm_centers.transpose()[1] <= ROI_expand[1, 1])\n",
    "    index_z = np.logical_and(elm_centers.transpose()[2] >= ROI_expand[0, 2], elm_centers.transpose()[2] <= ROI_expand[1, 2])\n",
    "    index_expand_box = np.logical_and(index_x,  np.logical_and(index_y, index_z))\n",
    "    elm_index_in_expand_box = head_mesh.elm.elm_number[index_expand_box] - 1\n",
    "    Efield_position_elm = elm_centers[elm_index_in_expand_box, :]\n",
    "    Efield_vector_elm   = head_mesh.elmdata[0].value[elm_index_in_expand_box, :]\n",
    "    \n",
    "    '''Save the electric field vector information of the expand box area'''\n",
    "    data = {\n",
    "        'cube_range': ROI_expand,\n",
    "        'E_position_elm': Efield_position_elm,\n",
    "        'E_vector_elm': Efield_vector_elm,\n",
    "        'E_position_node': Efield_position_node,\n",
    "        'E_vector_node': Efield_vector_node,\n",
    "    }\n",
    "    np.save(savePath, data)"
   ]
  },
  {
   "cell_type": "markdown",
   "id": "65ae8a5c-cc32-476d-adc5-7e5b3ab45771",
   "metadata": {},
   "source": [
    "# 2. Draw the surface of the central gray matter and the distribution of electric fields in the ROI area"
   ]
  },
  {
   "cell_type": "code",
   "execution_count": 4,
   "id": "52787d52-1209-41c1-979a-21b88002f485",
   "metadata": {},
   "outputs": [],
   "source": [
    "sim_folder = r'H:\\3Headmodel\\snowp\\tacs_2mA'\n",
    "mid_gm_surf = simnibs.read_msh(os.path.join(sim_folder, 'subject_overlays', 'ernie_TDCS_1_scalar_central.msh'))\n",
    "# mid_gm_surf.view().show()"
   ]
  },
  {
   "cell_type": "code",
   "execution_count": 5,
   "id": "886c2d65-3997-4433-8f67-5a96f33aeda5",
   "metadata": {},
   "outputs": [],
   "source": [
    "atlas = simnibs.subject_atlas('a2009s', r'H:\\3Headmodel\\snowp\\m2m_ernie')\n",
    "region_name = ['lh.G_postcentral', 'lh.S_central', 'lh.G_precentral']\n",
    "roi = atlas[region_name[0]] + atlas[region_name[1]] + atlas[region_name[2]]\n",
    "roi_bool = roi.astype(bool)\n",
    "roi_elm_number = find_elements_composed_by_given_nodes(mid_gm_surf, mid_gm_surf.nodes.node_number[roi_bool])\n",
    "mid_gm_surf_roi = mid_gm_surf.crop_mesh(elements=roi_elm_number)\n",
    "# mid_gm_surf_roi.view().show()"
   ]
  },
  {
   "cell_type": "markdown",
   "id": "5f0bafe2-029b-4912-a68a-cc0f574fe55e",
   "metadata": {},
   "source": [
    "# 3. Interpolated electric field information of the surface where Layer 5 soma is located (or other layer surface)"
   ]
  },
  {
   "cell_type": "code",
   "execution_count": 22,
   "id": "58286b1d-a2c9-491c-9df1-f89654dd741a",
   "metadata": {},
   "outputs": [],
   "source": [
    "from simnibs.utils.mesh_element_properties import ElementTags\n",
    "from simnibs.utils.simnibs_logger import logger\n",
    "from simnibs.utils.file_finder import templates, SubjectFiles, get_reference_surf\n",
    "from simnibs.utils.csv_reader import write_csv_positions, read_csv_positions\n",
    "def interpolation_to_given_surface(\n",
    "    mesh_fn,\n",
    "    m2m_folder,\n",
    "    out_folder,\n",
    "    depth=0.5,\n",
    "    interp_surf_name='central',\n",
    "    quantities=[\"magn\", \"normal\", \"tangent\", \"angle\"],\n",
    "    fields=None,\n",
    "    open_in_gmsh=False,\n",
    "    f_geo=None\n",
    "):\n",
    "    \"\"\"Interpolates the vector fieds in the middle gray matter surface\n",
    "\n",
    "    Parameters\n",
    "    -----------\n",
    "    mesh_fn: str\n",
    "        String with file name to mesh\n",
    "    m2m_folder: str\n",
    "        Path to the m2m_{subject_id} folder, generated during the segmantation\n",
    "    out_folder: str\n",
    "        Name of output folder. Output files will be written to this folder\n",
    "    depth: float (optional)\n",
    "        The distance bewteen grey and white matter where the\n",
    "        interpolation should be done. p = depth * wm + (1 - depth) * gm (default: .5)\n",
    "    quantities: list with the elements {magn, normal, tangent, angle}\n",
    "        Quantites to be calculated from vector field\n",
    "    fields: list of strings (optional)\n",
    "        Fields to be transformed. Default: all fields\n",
    "    open_in_gmsh: bool\n",
    "        If true, opens a Gmsh window with the interpolated fields\n",
    "    f_geo: str\n",
    "        String with file name to geo file that accompanies the mesh\n",
    "    \"\"\"\n",
    "    from simnibs.mesh_tools import mesh_io\n",
    "\n",
    "    m2m_folder = os.path.abspath(os.path.normpath(m2m_folder))\n",
    "    subject_files = SubjectFiles(subpath=m2m_folder)\n",
    "    if depth < 0.0 or depth > 1.0:\n",
    "        raise ValueError(\"Invalid depth value. Should be between 0 and 1\")\n",
    "\n",
    "    if any([q not in [\"magn\", \"normal\", \"tangent\", \"angle\"] for q in quantities]):\n",
    "        raise ValueError(\"Invalid quanty in {0}\".format(quantities))\n",
    "\n",
    "    def calc_quantities(nd, quantities):\n",
    "        d = dict.fromkeys(quantities)\n",
    "        for q in quantities:\n",
    "            if q == \"magn\":\n",
    "                d[q] = nd.norm()\n",
    "            elif q == \"normal\":\n",
    "                d[q] = nd.normal()\n",
    "                d[q].value *= -1\n",
    "            elif q == \"tangent\":\n",
    "                d[q] = nd.tangent()\n",
    "            elif q == \"angle\":\n",
    "                d[q] = nd.angle()\n",
    "            else:\n",
    "                raise ValueError(\"Invalid quantity: {0}\".format(q))\n",
    "        return d\n",
    "\n",
    "    m = mesh_io.read_msh(mesh_fn)\n",
    "    _, sim_name = os.path.split(mesh_fn)\n",
    "    sim_name = \".\" + os.path.splitext(sim_name)[0]\n",
    "\n",
    "    # Crop out WM, GM, and CSF. We add WM and CSF to make the mesh convex.\n",
    "    m = m.crop_mesh(tags=[ElementTags.WM, ElementTags.GM, ElementTags.CSF])\n",
    "\n",
    "    # Set the volume to be GM. The interpolation will use only the tetrahedra in the volume.\n",
    "    th_indices = m.elm.elm_number[m.elm.tag1 == ElementTags.GM]\n",
    "\n",
    "    if not os.path.isdir(out_folder):\n",
    "        os.mkdir(out_folder)\n",
    "    out_folder = os.path.abspath(os.path.normpath(out_folder))\n",
    "\n",
    "    names_subj = []\n",
    "\n",
    "\n",
    "    middle_surf = mesh_io.load_subject_surfaces(subject_files, interp_surf_name)\n",
    "\n",
    "\n",
    "    for hemi in subject_files.hemispheres:\n",
    "        mesh_io.write_freesurfer_surface(\n",
    "            middle_surf[hemi],\n",
    "            os.path.join(out_folder, hemi + \".%s\" % interp_surf_name)\n",
    "        )\n",
    "\n",
    "    h = []\n",
    "    for name, data in m.field.items():\n",
    "        for hemi in subject_files.hemispheres:\n",
    "            if fields is None or name in fields:\n",
    "                # Interpolate to middle gm\n",
    "                interpolated = data.interpolate_to_surface(\n",
    "                    middle_surf[hemi], th_indices=th_indices\n",
    "                )\n",
    "\n",
    "                # For vector quantities, calculate quantities (normal, magn, ...)\n",
    "                if data.nr_comp == 3:\n",
    "                    q = calc_quantities(interpolated, quantities)\n",
    "                    for q_name, q_data in q.items():\n",
    "                        out_subj = os.path.join(\n",
    "                            out_folder,\n",
    "                            hemi + sim_name + \".%s.\" % interp_surf_name + name + \".\" + q_name,\n",
    "                        )\n",
    "                        mesh_io.write_curv(\n",
    "                            out_subj, q_data.value, middle_surf[hemi].elm.nr\n",
    "                        )\n",
    "                        names_subj.append(out_subj)\n",
    "                        middle_surf[hemi].add_node_field(q_data, f\"{name}_{q_name}\")\n",
    "                        h.append(hemi)\n",
    "                        \n",
    "                elif data.nr_comp == 1:\n",
    "                    field_name = name[-1]\n",
    "                    q_name = name[:-1]\n",
    "                    if field_name in m.field.keys() and q_name in quantities:\n",
    "                        # If we have an equivalent quantity being calculated, skip\n",
    "                        pass\n",
    "                    else:\n",
    "                        out_subj = os.path.join(\n",
    "                            out_folder, hemi + sim_name + \".%s.\" % interp_surf_name + name\n",
    "                        )\n",
    "                        mesh_io.write_curv(\n",
    "                            out_subj,\n",
    "                            interpolated.value.squeeze(),\n",
    "                            middle_surf[hemi].elm.nr,\n",
    "                        )\n",
    "                        names_subj.append(out_subj)\n",
    "                        h.append(hemi)\n",
    "                        middle_surf[hemi].add_node_field(interpolated, name)\n",
    "\n",
    "    # Join surfaces, fields and open in gmsh\n",
    "    # I only work with lh and rh at least for now\n",
    "    # It also needs to be nicely ordered, otherwise will\n",
    "    # screw up the atlases\n",
    "\n",
    "    def join_and_write(surfs, fn_out, open_in_gmsh, f_geo=None):\n",
    "        mesh = surfs[\"lh\"].join_mesh(surfs[\"rh\"])\n",
    "        mesh.elm.tag1 = ElementTags.GM_TH_SURFACE * np.ones(mesh.elm.nr, dtype=int)\n",
    "        mesh.elm.tag2 = ElementTags.GM_TH_SURFACE * np.ones(mesh.elm.nr, dtype=int)\n",
    "        mesh.nodedata = []\n",
    "        mesh.elmdata = []\n",
    "        for k in surfs[\"lh\"].field.keys():\n",
    "            mesh.add_node_field(\n",
    "                np.append(surfs[\"lh\"].field[k].value, surfs[\"rh\"].field[k].value), k\n",
    "            )\n",
    "        mesh_io.write_msh(mesh, fn_out)\n",
    "\n",
    "        # write .opt-file\n",
    "        v = mesh.view(visible_fields=list(surfs[\"lh\"].field.keys())[0])\n",
    "        if f_geo is not None:\n",
    "            if not os.path.exists(f_geo):\n",
    "                raise FileNotFoundError(f\"Could not find file: {f_geo}\")\n",
    "            v.add_merge(f_geo, append_views_from_geo=True)\n",
    "        v.write_opt(fn_out)\n",
    "\n",
    "        if open_in_gmsh:\n",
    "            mesh_io.open_in_gmsh(fn_out, True)\n",
    "\n",
    "    join_and_write(\n",
    "        middle_surf,\n",
    "        os.path.join(out_folder, sim_name[1:] + \"_%s.msh\" % interp_surf_name),\n",
    "        open_in_gmsh,\n",
    "        f_geo,\n",
    "    )"
   ]
  },
  {
   "cell_type": "code",
   "execution_count": 23,
   "id": "160cf60c-a1b3-499c-bbaf-145de69c2c09",
   "metadata": {},
   "outputs": [],
   "source": [
    "mesh_fn    = r'H:\\3Headmodel\\snowp\\tacs_2mA\\ernie_TDCS_1_scalar.msh'\n",
    "m2m_folder = r'H:\\3Headmodel\\snowp\\m2m_ernie'\n",
    "out_folder = r'H:\\3Headmodel\\snowp\\tacs_2mA\\subject_overlays'\n",
    "interp_surf_name = 'Layer5'\n",
    "f_geo = r'H:\\3Headmodel\\snowp\\tacs_2mA\\ernie_TDCS_1_el_currents.geo'\n",
    "if not os.path.exists(os.path.join(out_folder, 'ernie_TDCS_1_scalar_%s.msh' % interp_surf_name)):\n",
    "    interpolation_to_given_surface(mesh_fn, m2m_folder, out_folder, interp_surf_name=interp_surf_name, open_in_gmsh=True, f_geo=f_geo)"
   ]
  },
  {
   "cell_type": "markdown",
   "id": "ccde9d6f-71c4-4ac7-9e66-71044aad2bbd",
   "metadata": {},
   "source": [
    "# 4. Draw the surface electric field distribution of the soma in the L5 layer and the electric field distribution in the ROI area"
   ]
  },
  {
   "cell_type": "code",
   "execution_count": 5,
   "id": "328c5277-6930-4fdd-a510-0bb6d73caf0e",
   "metadata": {},
   "outputs": [
    {
     "name": "stdout",
     "output_type": "stream",
     "text": [
      "L5 ROI Surf faces number is: 16196\n",
      "L5 ROI Surf vertices number is: 8336\n"
     ]
    }
   ],
   "source": [
    "sim_folder = r'H:\\3Headmodel\\snowp\\tacs_2mA'\n",
    "L5_surf = simnibs.read_msh(os.path.join(sim_folder, 'subject_overlays', 'ernie_TDCS_1_scalar_Layer5.msh'))\n",
    "# L5_surf.view().show()\n",
    "atlas = simnibs.subject_atlas('a2009s', r'H:\\3Headmodel\\snowp\\m2m_ernie')\n",
    "region_name = ['lh.G_postcentral', 'lh.S_central', 'lh.G_precentral']\n",
    "roi = atlas[region_name[0]] + atlas[region_name[1]] + atlas[region_name[2]]\n",
    "roi_bool = roi.astype(bool)\n",
    "roi_elm_number = find_elements_composed_by_given_nodes(L5_surf, L5_surf.nodes.node_number[roi_bool])\n",
    "L5_surf_roi = L5_surf.crop_mesh(elements=roi_elm_number)\n",
    "print('L5 ROI Surf faces number is: %d' % L5_surf_roi.elm.nr)\n",
    "print('L5 ROI Surf vertices number is: %d' % L5_surf_roi.nodes.nr)\n",
    "# L5_surf_roi.view().show()"
   ]
  },
  {
   "cell_type": "code",
   "execution_count": 6,
   "id": "74f43064-02c0-4ae1-837f-7a855ebd8885",
   "metadata": {},
   "outputs": [
    {
     "name": "stdout",
     "output_type": "stream",
     "text": [
      "['E_magn', 'E_normal', 'E_tangent', 'E_angle', 'J_magn', 'J_normal', 'J_tangent', 'J_angle']\n"
     ]
    },
    {
     "data": {
      "image/png": "[encoded data removed]",
      "text/html": [
       "<div style=\"vertical-align: middle;\"><strong>jet</strong> </div><div class=\"cmap\"><img alt=\"jet colormap\" title=\"jet\" style=\"border: 1px solid #555;\" src=\"data:image/png;base64,iVBORw0KGgoAAAANSUhEUgAAAgAAAABACAYAAABsv8+/AAAAEnRFWHRUaXRsZQBqZXQgY29sb3JtYXBCuQ5RAAAAGHRFWHREZXNjcmlwdGlvbgBqZXQgY29sb3JtYXBOkXwLAAAAMHRFWHRBdXRob3IATWF0cGxvdGxpYiB2My45LjIsIGh0dHBzOi8vbWF0cGxvdGxpYi5vcmdhmcVTAAAAMnRFWHRTb2Z0d2FyZQBNYXRwbG90bGliIHYzLjkuMiwgaHR0cHM6Ly9tYXRwbG90bGliLm9yZ08/WnQAAAHbSURBVHic7dbRTsJAEIbR2fXBfXJmvRABtQpUMSb/OUmz7bTdAOHiG1XPq2rW6/FU5/Nr13vv/eTZvXuN+tb842NsfNRbZmPja94yGxf3tmZv84+zf32sqtmf1jG75lyndV7MXs83ZrVqVtes8/morlnrtF7Otp67nF27/xd737fPI/e+9s7Wb/H4vW/ep7tGd81ep3V21Tj+7Uaf1+qqWsd169hz7z+/s3e/r+7veeeBv8Pqqu6qw3Htrur1/vpwnL29fviw3T3Xv/XsPfvMAgDiCAAACCQAACCQAACAQAIAAAIJAAAIJAAAIJAAAIBAAgAAAgkAAAgkAAAgkAAAgEACAAACCQAACCQAACCQAACAQAIAAAIJAAAIJAAAIJAAAIBAAgAAAgkAAAgkAAAgkAAAgEACAAACCQAACCQAACCQAACAQAIAAAIJAAAIJAAAIJAAAIBAAgAAAgkAAAgkAAAgkAAAgEACAAACCQAACCQAACCQAACAQAIAAAIJAAAIJAAAIJAAAIBAAgAAAgkAAAgkAAAgkAAAgEACAAACCQAACCQAACCQAACAQAIAAAIJAAAIJAAAIJAAAIBAAgAAAgkAAAgkAAAgkAAAgEACAAACCQAACCQAACDQC/37ZA1eKNZ+AAAAAElFTkSuQmCC\"></div><div style=\"vertical-align: middle; max-width: 514px; display: flex; justify-content: space-between;\"><div style=\"float: left;\"><div title=\"#000080ff\" style=\"display: inline-block; width: 1em; height: 1em; margin: 0; vertical-align: middle; border: 1px solid #555; background-color: #000080ff;\"></div> under</div><div style=\"margin: 0 auto; display: inline-block;\">bad <div title=\"#00000000\" style=\"display: inline-block; width: 1em; height: 1em; margin: 0; vertical-align: middle; border: 1px solid #555; background-color: #00000000;\"></div></div><div style=\"float: right;\">over <div title=\"#800000ff\" style=\"display: inline-block; width: 1em; height: 1em; margin: 0; vertical-align: middle; border: 1px solid #555; background-color: #800000ff;\"></div></div></div>"
      ],
      "text/plain": [
       "<matplotlib.colors.LinearSegmentedColormap at 0x25ed7e14610>"
      ]
     },
     "execution_count": 6,
     "metadata": {},
     "output_type": "execute_result"
    }
   ],
   "source": [
    "print([L5_surf_roi.nodedata[i].field_name for i in range(len(L5_surf_roi.nodedata))])\n",
    "elm_Emag_data = L5_surf_roi.nodedata[0].node_data2elm_data().value\n",
    "vertices = L5_surf_roi.nodes.node_coord\n",
    "faces = L5_surf_roi.elm.node_number_list[:, :3] - 1\n",
    "sorted_indices = np.argsort(elm_Emag_data)\n",
    "\n",
    "value_min, value_max = 0, 0.455\n",
    "color_numPoint = 5000\n",
    "value_array    = np.linspace(value_min, value_max, color_numPoint)\n",
    "list_color0    = plt.get_cmap('jet', lut=color_numPoint) # .reversed()\n",
    "# list_color     = [list_color0(i) for i in range(color_numPoint)]\n",
    "list_color = []\n",
    "for i in range(elm_Emag_data.shape[0]):\n",
    "    if elm_Emag_data[i] >= value_max:\n",
    "        list_color.append(list_color0(-1))\n",
    "    elif elm_Emag_data[i] <= value_min:\n",
    "        list_color.append(list_color0(0))\n",
    "    else:    \n",
    "        diff = np.abs(value_array - elm_Emag_data[i])\n",
    "        closest_indices = np.argmin(diff)\n",
    "        list_color.append(list_color0(closest_indices))\n",
    "list_color0"
   ]
  },
  {
   "cell_type": "code",
   "execution_count": 21,
   "id": "a6353aae-11a3-4fe3-8a0f-233d4fd67dd3",
   "metadata": {},
   "outputs": [
    {
     "data": {
      "text/plain": [
       "(-66.87555079989963,\n",
       " 0.14079909854465456,\n",
       " -29.037187629275856,\n",
       " 37.979162269168434,\n",
       " 27.986993749936417,\n",
       " 78.24925617376964)"
      ]
     },
     "execution_count": 21,
     "metadata": {},
     "output_type": "execute_result"
    },
    {
     "data": {
      "image/png": "[encoded data removed]",
      "text/plain": [
       "<Figure size 400x400 with 1 Axes>"
      ]
     },
     "metadata": {},
     "output_type": "display_data"
    }
   ],
   "source": [
    "from mpl_toolkits.mplot3d.art3d import Poly3DCollection\n",
    "fig, ax = plt.subplots(1, 1, figsize=(4, 4), subplot_kw={'projection': '3d'})\n",
    "polycol3d = Poly3DCollection([vertices[face] for face in faces], facecolors=list_color, edgecolors=list_color, shade=True)\n",
    "ax.add_collection3d(polycol3d)\n",
    "ax.set_xlim(-80, 10)\n",
    "ax.set_ylim(-20, 40)\n",
    "ax.set_zlim(25, 80)\n",
    "ax.view_init(45, 180)\n",
    "ax.axis('off')\n",
    "ax.axis('equal')"
   ]
  },
  {
   "cell_type": "code",
   "execution_count": null,
   "id": "45611f02-8a1e-467a-b8c7-c67f09e49552",
   "metadata": {},
   "outputs": [],
   "source": []
  }
 ],
 "metadata": {
  "kernelspec": {
   "display_name": "pytorch",
   "language": "python",
   "name": "pytorch"
  },
  "language_info": {
   "codemirror_mode": {
    "name": "ipython",
    "version": 3
   },
   "file_extension": ".py",
   "mimetype": "text/x-python",
   "name": "python",
   "nbconvert_exporter": "python",
   "pygments_lexer": "ipython3",
   "version": "3.9.12"
  }
 },
 "nbformat": 4,
 "nbformat_minor": 5
}
