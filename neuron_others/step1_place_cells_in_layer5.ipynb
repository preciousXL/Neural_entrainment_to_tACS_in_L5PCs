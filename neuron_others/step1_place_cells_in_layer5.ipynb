{
 "cells": [
  {
   "cell_type": "code",
   "execution_count": 1,
   "id": "bdbf6711-d508-4cb5-a35c-2d425ba5d34d",
   "metadata": {
    "editable": true,
    "slideshow": {
     "slide_type": ""
    },
    "tags": []
   },
   "outputs": [],
   "source": [
    "import numpy as np\n",
    "import matplotlib.pyplot as plt\n",
    "import matplotlib as mpl\n",
    "from matplotlib.collections import PolyCollection\n",
    "import neuron\n",
    "from neuron import h\n",
    "import numba\n",
    "import time, os\n",
    "import subprocess\n",
    "import pickle, glob\n",
    "import scipy.signal\n",
    "from scipy.signal import find_peaks\n",
    "import copy"
   ]
  },
  {
   "cell_type": "code",
   "execution_count": 2,
   "id": "bc013619-befa-4ab3-9f1a-76039d8e8eed",
   "metadata": {
    "editable": true,
    "slideshow": {
     "slide_type": ""
    },
    "tags": []
   },
   "outputs": [
    {
     "name": "stdout",
     "output_type": "stream",
     "text": [
      "\t1 \n",
      "\t1 \n",
      "\t1 \n",
      "\t1 \n",
      "\t1 \n",
      "\t1 \n",
      "\t1 \n",
      "\t1 \n",
      "\t1 \n",
      "\t1 \n",
      "\t1 \n",
      "\t1 \n",
      "\t1 \n",
      "*---------*\n",
      "Loaded Blue Brain cell 19: L5_TTPC2_cADpyr232_4 \n",
      "Temperature = 37 C\n",
      "Applying 90° x-rotation\n",
      "Got main axon (2)\n",
      "Myelinating axon: Replacing 159 Axonal sections w/ 278 Myelin, 278 Node, 33 Unmyelin sections\n",
      "Adding myelin before the 1st bifurcation\n",
      "Model now has 350 sections and 1808 compartments\n"
     ]
    }
   ],
   "source": [
    "class L5PC_Clone4():\n",
    "    def __init__(self, cell_id=19):\n",
    "        self.cell_id = cell_id\n",
    "        self.list_cell_model_name = ['L1_NGC-DA_bNAC219_1', 'L1_NGC-DA_bNAC219_2', 'L1_NGC-DA_bNAC219_3', 'L1_NGC-DA_bNAC219_4', 'L1_NGC-DA_bNAC219_5',\n",
    "                                'L23_PC_cADpyr229_1', 'L23_PC_cADpyr229_2', 'L23_PC_cADpyr229_3', 'L23_PC_cADpyr229_4', 'L23_PC_cADpyr229_5',\n",
    "                                'L4_LBC_cACint209_1', 'L4_LBC_cACint209_2', 'L4_LBC_cACint209_3', 'L4_LBC_cACint209_4', 'L4_LBC_cACint209_5', \n",
    "                                'L5_TTPC2_cADpyr232_1', 'L5_TTPC2_cADpyr232_2', 'L5_TTPC2_cADpyr232_3', 'L5_TTPC2_cADpyr232_4', 'L5_TTPC2_cADpyr232_5',\n",
    "                                'L6_TPC_L4_cADpyr231_1', 'L6_TPC_L4_cADpyr231_2', 'L6_TPC_L4_cADpyr231_3', 'L6_TPC_L4_cADpyr231_4', 'L6_TPC_L4_cADpyr231_5']\n",
    "        self.cell_model_name = self.list_cell_model_name[self.cell_id - 1]\n",
    "        self.create_cell()\n",
    "        # for sec in h.allsec():\n",
    "        #     if h.ismembrane('xtra', sec=sec):\n",
    "        #         sec.uninsert('xtra')\n",
    "        self.allSections = [sec for sec in neuron.h.cell.all]\n",
    "        self.allSegments = [seg for sec in neuron.h.cell.all for seg in sec]\n",
    "        self.get_cell_coordinates()\n",
    "        self.get_cell_segment_coordinates()\n",
    "        self.create_recordings()\n",
    "        \n",
    "    def create_cell(self):\n",
    "        h.load_file(\"nrngui.hoc\")\n",
    "        h.load_file(\"init_snowp.hoc\")\n",
    "        h.cell_id = self.cell_id\n",
    "        h.cell_model_name = self.cell_model_name\n",
    "        h.loadFiles()\n",
    "        h.cell_chooser()\n",
    "        h.load_file(\"steadystate_init.hoc\")\n",
    "        h.load_file(\"getes_snowp.hoc\")\n",
    "        \n",
    "    def get_cell_coordinates(self):\n",
    "        numSec = len(self.allSections)\n",
    "        self.cell_coordinates = np.full((3, 3*numSec), np.nan) # shape=(3=x,y,z, numSec*3=xstart,xend,nan)\n",
    "        self.cell_section_coordinates = np.zeros((numSec, 3))\n",
    "        for i, sec in enumerate(self.allSections):\n",
    "            n3d = int(neuron.h.n3d(sec=sec))\n",
    "            sec_start = np.array([neuron.h.x3d(0, sec=sec), neuron.h.y3d(0, sec=sec), neuron.h.z3d(0, sec=sec)])\n",
    "            sec_end = np.array([neuron.h.x3d(n3d-1, sec=sec), neuron.h.y3d(n3d-1, sec=sec), neuron.h.z3d(n3d-1, sec=sec)])\n",
    "            self.cell_coordinates[:, i*3] = sec_start\n",
    "            self.cell_coordinates[:, i*3+1] = sec_end\n",
    "            self.cell_section_coordinates[i, :] = (sec_start + sec_end) / 2\n",
    "\n",
    "    def get_cell_segment_coordinates(self):\n",
    "        numSeg = np.array([sec.nseg for sec in self.allSections])\n",
    "        numSeg = np.sum(numSeg)\n",
    "        self.cell_segment_coordinates = np.zeros((numSeg, 3))\n",
    "        num = 0\n",
    "        for sec in self.allSections:\n",
    "            for seg in sec:\n",
    "                self.cell_segment_coordinates[num, :] = np.array([seg.x_xtra, seg.y_xtra, seg.z_xtra])\n",
    "                num += 1\n",
    "    \n",
    "    def get_section_center(self, sec):\n",
    "        n3d = int(neuron.h.n3d(sec=sec))\n",
    "        sec_start = np.array([neuron.h.x3d(0, sec=sec), neuron.h.y3d(0, sec=sec), neuron.h.z3d(0, sec=sec)])\n",
    "        sec_end = np.array([neuron.h.x3d(n3d-1, sec=sec), neuron.h.y3d(n3d-1, sec=sec), neuron.h.z3d(n3d-1, sec=sec)])\n",
    "        center = (sec_start + sec_end) / 2\n",
    "        return center\n",
    "\n",
    "    def create_recordings(self):\n",
    "        self.recordings              = {}\n",
    "        self.recordings['t']         = neuron.h.Vector().record(neuron.h._ref_t)\n",
    "        self.recordings['soma(0.5)'] = neuron.h.Vector().record(neuron.h.cell.soma[0](0.5)._ref_v)\n",
    "        \n",
    "    def add_soma_synapse(self, thresh=10, delay=0., weight=0.004):\n",
    "        # self.spikesource = neuron.h.NetStim()\n",
    "        # self.spikesource.interval = 1000/50 \t  # ms (mean) time between spikes\n",
    "        # self.spikesource.number   = 1  # (average) number of spikes\n",
    "        # self.spikesource.start    = 100           # ms (mean) start time of first spike\n",
    "        # self.spikesource.noise    = 1             # range 0 to 1. Fractional randomness. 0 deterministic, 1 intervals have decaying exponential distribution\n",
    "        # self.spikesource.seed(1)\n",
    "        self.syn = neuron.h.Exp2Syn(self.allSections[0](0.5)) # soma\n",
    "        self.syn.tau1 = 2\n",
    "        self.syn.tau2 = 10\n",
    "        self.syn.e    = 0\n",
    "        self.recordings['Isyn'] = h.Vector().record(self.syn._ref_i)\n",
    "        # self.connection = neuron.h.NetCon(self.spikesource, self.syn, thresh, delay, weight)\n",
    "        self.connection = neuron.h.NetCon(None, self.syn)\n",
    "        self.connection.delay = delay\n",
    "        self.connection.weight[0] = weight\n",
    "    \n",
    "    def run_simulation(self, dt=0.025, tstop=20):\n",
    "        neuron.h.dt = dt\n",
    "        neuron.h.tstop = tstop\n",
    "        neuron.h.finitialize(-70)\n",
    "        neuron.h.run()\n",
    "\n",
    "    def run_simulation_withEF(self, dt=0.025, tvar=0., Evar=0., tstop=20.0, ):\n",
    "        h.dt = dt\n",
    "        h.tstop = tstop\n",
    "        h.setstim_snowp()\n",
    "        h.stim_amp.from_python(Evar)\n",
    "        h.stim_time.from_python(tvar)\n",
    "        h.attach_stim()\n",
    "        neuron.h.finitialize(-70)\n",
    "        neuron.h.run()\n",
    "        \n",
    "cell = L5PC_Clone4(19)"
   ]
  },
  {
   "cell_type": "markdown",
   "id": "b43562ce-e187-4265-a5c2-86a895cd4ffe",
   "metadata": {},
   "source": [
    "# 1. Save cell morphological coordinates：section and segment coordinates"
   ]
  },
  {
   "cell_type": "code",
   "execution_count": 3,
   "id": "6239670b-a1b7-4663-8e37-1fc43b216129",
   "metadata": {
    "editable": true,
    "slideshow": {
     "slide_type": ""
    },
    "tags": []
   },
   "outputs": [],
   "source": [
    "def calc_cell_section_and_segment_coordinates(cellAllSections):\n",
    "    num_section = len(cellAllSections)\n",
    "    num_segment = sum([sec.nseg for sec in cellAllSections])\n",
    "    cell_section_names = []\n",
    "    cell_section_coordinates_start = np.zeros((num_section, 3))\n",
    "    cell_section_coordinates_end   = np.zeros((num_section, 3))\n",
    "    cell_section_coordinates_mid   = np.zeros((num_section, 3))\n",
    "    cell_section_diameter = np.zeros(num_section)\n",
    "    cell_segment_names = []\n",
    "    cell_segment_coordinates_start = np.zeros((num_segment, 3))\n",
    "    cell_segment_coordinates_end   = np.zeros((num_segment, 3))\n",
    "    cell_segment_coordinates_mid   = np.zeros((num_segment, 3))\n",
    "    cell_segment_diameter = np.zeros(num_segment)\n",
    "    \n",
    "    num_sec_seg = 0\n",
    "    for i, sec in enumerate(cellAllSections):\n",
    "        if 'soma' in sec.name():\n",
    "            cell_section_names.append('soma')\n",
    "        elif 'dend' in sec.name():\n",
    "            cell_section_names.append('basal')\n",
    "        elif 'apic' in sec.name():\n",
    "            cell_section_names.append('apic')\n",
    "        else:\n",
    "            cell_section_names.append('axon') \n",
    "\n",
    "        cell_section_diameter[i] = sec.diam\n",
    "        n3d = int(sec.n3d())\n",
    "        xx, yy, zz = np.zeros(n3d), np.zeros(n3d), np.zeros(n3d)\n",
    "        secLength = np.zeros(n3d)\n",
    "        for j in range(n3d):\n",
    "            secLength[j] = sec.arc3d(j)\n",
    "            xx[j], yy[j], zz[j] = sec.x3d(j), sec.y3d(j), sec.z3d(j)\n",
    "        secLength_norm = secLength / sec.arc3d(n3d-1)\n",
    "        nseg = int(sec.nseg)\n",
    "        for m, segment in enumerate(sec):\n",
    "            cell_segment_diameter[num_sec_seg+m] = segment.diam\n",
    "            cell_segment_names.append(cell_section_names[-1])\n",
    "        secRange = np.arange(0., (nseg+1)/nseg + 1/(2*nseg), 1/nseg)\n",
    "\n",
    "        segmentOfSection_xinterp_start = np.interp(secRange[:-2], secLength_norm, xx)\n",
    "        segmentOfSection_yinterp_start = np.interp(secRange[:-2], secLength_norm, yy)\n",
    "        segmentOfSection_zinterp_start = np.interp(secRange[:-2], secLength_norm, zz)\n",
    "\n",
    "        segmentOfSection_xinterp_end = np.interp(secRange[1:-1], secLength_norm, xx)\n",
    "        segmentOfSection_yinterp_end = np.interp(secRange[1:-1], secLength_norm, yy)\n",
    "        segmentOfSection_zinterp_end = np.interp(secRange[1:-1], secLength_norm, zz)\n",
    "\n",
    "        secRange -= 1 / (2 * nseg)\n",
    "        secRange[0] = 0.0\n",
    "        secRange[-1] = 1.0\n",
    "        segmentOfSection_xinterp_mid = np.interp(secRange, secLength_norm, xx)\n",
    "        segmentOfSection_yinterp_mid = np.interp(secRange, secLength_norm, yy)\n",
    "        segmentOfSection_zinterp_mid = np.interp(secRange, secLength_norm, zz)\n",
    "\n",
    "        sec_start = np.array([segmentOfSection_xinterp_mid[0], segmentOfSection_yinterp_mid[0], segmentOfSection_zinterp_mid[0]])\n",
    "        sec_end = np.array([segmentOfSection_xinterp_mid[-1], segmentOfSection_yinterp_mid[-1], segmentOfSection_zinterp_mid[-1]])\n",
    "        sec_mid = (sec_start + sec_end) / 2\n",
    "        cell_section_coordinates_start[i, :] = sec_start\n",
    "        cell_section_coordinates_end[i, :]   = sec_end\n",
    "        cell_section_coordinates_mid[i, :]   = sec_mid\n",
    "\n",
    "        seg_start = np.vstack((segmentOfSection_xinterp_start, segmentOfSection_yinterp_start, segmentOfSection_zinterp_start)).transpose()\n",
    "        seg_end = np.vstack((segmentOfSection_xinterp_end, segmentOfSection_yinterp_end, segmentOfSection_zinterp_end)).transpose()\n",
    "        seg_mid = np.vstack((segmentOfSection_xinterp_mid[1:-1], segmentOfSection_yinterp_mid[1:-1], segmentOfSection_zinterp_mid[1:-1])).transpose()\n",
    "        cell_segment_coordinates_start[num_sec_seg:num_sec_seg + nseg, :] = seg_start\n",
    "        cell_segment_coordinates_end[num_sec_seg:num_sec_seg + nseg, :] = seg_end\n",
    "        cell_segment_coordinates_mid[num_sec_seg:num_sec_seg + nseg, :] = seg_mid\n",
    "        num_sec_seg += nseg\n",
    "    \n",
    "\n",
    "    index_soma  = np.array([i for i, item in enumerate(cell_section_names) if item=='soma'])\n",
    "    index_basal = np.array([i for i, item in enumerate(cell_section_names) if item=='basal'])\n",
    "    index_apic  = np.array([i for i, item in enumerate(cell_section_names) if item=='apic'])\n",
    "    index_axon  = np.array([i for i, item in enumerate(cell_section_names) if item=='axon'])\n",
    "    section_coords = {\n",
    "        'cell_section_names': cell_section_names,\n",
    "        'cell_section_coordinates_start': cell_section_coordinates_start,\n",
    "        'cell_section_coordinates_end': cell_section_coordinates_end,\n",
    "        'cell_section_coordinates_mid': cell_section_coordinates_mid,\n",
    "        'index_soma_section': index_soma,\n",
    "        'index_basal_section': index_basal,\n",
    "        'index_apic_section': index_apic,\n",
    "        'index_axon_section': index_axon,\n",
    "        'cell_section_diameter': cell_section_diameter}\n",
    "\n",
    "    index_soma  = np.array([i for i, item in enumerate(cell_segment_names) if item=='soma'])\n",
    "    index_basal = np.array([i for i, item in enumerate(cell_segment_names) if item=='basal'])\n",
    "    index_apic  = np.array([i for i, item in enumerate(cell_segment_names) if item=='apic'])\n",
    "    index_axon  = np.array([i for i, item in enumerate(cell_segment_names) if item=='axon'])\n",
    "    segment_coords = {\n",
    "        'cell_segment_names': cell_segment_names,\n",
    "        'cell_segment_coordinates_start': cell_segment_coordinates_start,\n",
    "        'cell_segment_coordinates_end': cell_segment_coordinates_end,\n",
    "        'cell_segment_coordinates_mid': cell_segment_coordinates_mid,\n",
    "        'index_soma_segment': index_soma,\n",
    "        'index_basal_segment': index_basal,\n",
    "        'index_apic_segment': index_apic,\n",
    "        'index_axon_segment': index_axon,\n",
    "        'cell_segment_diameter': cell_segment_diameter }\n",
    "    return section_coords, segment_coords"
   ]
  },
  {
   "cell_type": "code",
   "execution_count": 5,
   "id": "b33eafe2-8700-4db7-a7d4-aeaa45a3e3df",
   "metadata": {
    "editable": true,
    "scrolled": true,
    "slideshow": {
     "slide_type": ""
    },
    "tags": []
   },
   "outputs": [],
   "source": [
    "section_coords, segment_coords = calc_cell_section_and_segment_coordinates(cell.allSections)\n",
    "data = {'section_coords': section_coords, 'segment_coords': segment_coords}\n",
    "savePath = r'C:\\Users\\Snowp\\PycharmProjects\\pythonProject\\24_tACS_PLV\\data\\L5PC_Clone4_coordinates_sectionAndSegment.npy'\n",
    "if not os.path.exists(savePath):\n",
    "    np.save(savePath, data)\n",
    "# np.save(savePath, data)"
   ]
  },
  {
   "cell_type": "markdown",
   "id": "8360b3a5-eeb6-4f22-a6ee-14c8cc16bad2",
   "metadata": {},
   "source": [
    "# 2. Draw cell morphology: Based on section coordinates or based on segment coordinates"
   ]
  },
  {
   "cell_type": "code",
   "execution_count": 138,
   "id": "93a1fb96-aafc-432a-b857-68d99c3e3e96",
   "metadata": {
    "editable": true,
    "slideshow": {
     "slide_type": ""
    },
    "tags": []
   },
   "outputs": [
    {
     "data": {
      "text/plain": [
       "Text(0, 0.5, 'z-axis (μm)')"
      ]
     },
     "execution_count": 138,
     "metadata": {},
     "output_type": "execute_result"
    },
    {
     "data": {
      "image/png": "[encoded data removed]",
      "text/plain": [
       "<Figure size 300x300 with 1 Axes>"
      ]
     },
     "metadata": {},
     "output_type": "display_data"
    }
   ],
   "source": [
    "'''section coordinates based'''\n",
    "dataPath = r'C:\\Users\\Snowp\\PycharmProjects\\pythonProject\\24_tACS_PLV\\data\\L5PC_Clone4_coordinates_sectionAndSegment.npy'\n",
    "data = np.load(dataPath, allow_pickle=True).item()\n",
    "section_coords = data['section_coords']\n",
    "cell_section_names = section_coords['cell_section_names']\n",
    "cell_section_coordinates_start = section_coords['cell_section_coordinates_start']\n",
    "cell_section_coordinates_end = section_coords['cell_section_coordinates_end']\n",
    "num_section = len(cell_section_names)\n",
    "plot_coordinates = np.full((3, 3*num_section), np.nan)\n",
    "for i in range(num_section):\n",
    "    plot_coordinates[:, i*3] = cell_section_coordinates_start[i, :]\n",
    "    plot_coordinates[:, i*3+1] = cell_section_coordinates_end[i, :]\n",
    "# plot\n",
    "fig = plt.figure(figsize=(3, 3))\n",
    "ax  = fig.add_subplot(111)\n",
    "ax.plot(plot_coordinates[0], plot_coordinates[2], color='gray', lw=0.5, zorder=-1) # x-z plane\n",
    "soma_center = cell.get_section_center(cell.allSections[0])\n",
    "ax.scatter(soma_center[0], soma_center[2], s=20, color='k', zorder=0)\n",
    "ax.axis('equal')\n",
    "# ax.axis('off')\n",
    "ax.set_xlabel('x-axis (μm)', fontsize=10)\n",
    "ax.set_ylabel('z-axis (μm)', fontsize=10)"
   ]
  },
  {
   "cell_type": "code",
   "execution_count": 139,
   "id": "a2253ce2-1792-4b30-a589-a0c6ac818eba",
   "metadata": {
    "editable": true,
    "slideshow": {
     "slide_type": ""
    },
    "tags": []
   },
   "outputs": [
    {
     "data": {
      "text/plain": [
       "Text(0, 0.5, 'z-axis (μm)')"
      ]
     },
     "execution_count": 139,
     "metadata": {},
     "output_type": "execute_result"
    },
    {
     "data": {
      "image/png": "[encoded data removed]",
      "text/plain": [
       "<Figure size 300x300 with 1 Axes>"
      ]
     },
     "metadata": {},
     "output_type": "display_data"
    }
   ],
   "source": [
    "'''segment coordinates based'''\n",
    "dataPath = r'C:\\Users\\Snowp\\PycharmProjects\\pythonProject\\24_tACS_PLV\\data\\L5PC_Clone4_coordinates_sectionAndSegment.npy'\n",
    "data = np.load(dataPath, allow_pickle=True).item()\n",
    "segment_coords = data['segment_coords']\n",
    "cell_segment_names = segment_coords['cell_segment_names']\n",
    "cell_segment_coordinates_start = segment_coords['cell_segment_coordinates_start']\n",
    "cell_segment_coordinates_end = segment_coords['cell_segment_coordinates_end']\n",
    "num_segment = len(cell_segment_names)\n",
    "plot_coordinates = np.full((3, 3*num_segment), np.nan)\n",
    "for i in range(num_segment):\n",
    "    plot_coordinates[:, i*3] = cell_segment_coordinates_start[i, :]\n",
    "    plot_coordinates[:, i*3+1] = cell_segment_coordinates_end[i, :]\n",
    "# plot\n",
    "fig = plt.figure(figsize=(3, 3))\n",
    "ax  = fig.add_subplot(111)\n",
    "ax.plot(plot_coordinates[0], plot_coordinates[2], color='gray', lw=0.5, zorder=-1) # x-z plane\n",
    "soma_center = cell.get_section_center(cell.allSections[0])\n",
    "ax.scatter(soma_center[0], soma_center[2], s=20, color='k', zorder=0)\n",
    "ax.axis('equal')\n",
    "# ax.axis('off')\n",
    "ax.set_xlabel('x-axis (μm)', fontsize=10)\n",
    "ax.set_ylabel('z-axis (μm)', fontsize=10)"
   ]
  },
  {
   "cell_type": "markdown",
   "id": "82dccafd-c24d-4f5d-99ff-831518a8016c",
   "metadata": {},
   "source": [
    "# 3. Based on the surface information of the L5 soma after discretization, the cluster information of the L5 layer was obtained."
   ]
  },
  {
   "cell_type": "code",
   "execution_count": 2,
   "id": "d6ee5264-6d83-4463-8589-16021d0c231b",
   "metadata": {
    "editable": true,
    "slideshow": {
     "slide_type": ""
    },
    "tags": []
   },
   "outputs": [],
   "source": [
    "def getRotation_RotVecDegree(vec0, vec1):\n",
    "    # 同Matlab中vrrotvec.m函数\n",
    "    if type(vec0) == 'list':\n",
    "        vec0 = np.array(vec0)\n",
    "    if type(vec1) == 'list':\n",
    "        vec1 = np.array(vec1)\n",
    "    vec0_norm = vec0 / np.linalg.norm(vec0)\n",
    "    vec1_norm = vec1 / np.linalg.norm(vec1)\n",
    "    vecAx = np.cross(vec0, vec1)\n",
    "    vecAx_norm = vecAx / np.linalg.norm(vecAx)\n",
    "    angle = np.arccos(np.dot(vec0_norm, vec1_norm))\n",
    "    return vecAx_norm, angle\n",
    "\n",
    "def getRotationMatrix(vec0=None, vec1=None, vecAx=None, angle=None):\n",
    "    # 同Matlab中vrrotvec2mat.m函数\n",
    "    # https://en.wikipedia.org/wiki/Rotation_matrix\n",
    "    if vecAx==None and angle==None:\n",
    "        vecAx, angle = getRotation_RotVecDegree(vec0, vec1)\n",
    "    if type(vecAx) == 'list':\n",
    "        vecAx = np.array(vecAx)\n",
    "    s = np.sin(angle)\n",
    "    c = np.cos(angle)\n",
    "    t = 1 - c\n",
    "    vecAx = vecAx / np.linalg.norm(vecAx)\n",
    "    x, y, z = vecAx \n",
    "    rotMatrix = np.array([[t*x*x + c,    t*x*y - s*z,  t*x*z + s*y], \n",
    "                          [t*x*y + s*z,  t*y*y + c,    t*y*z - s*x],\n",
    "                          [t*x*z - s*y,  t*y*z + s*x,  t*z*z + c]])\n",
    "    return rotMatrix\n",
    "\n",
    "def CellPt3dchange_ByPhiNormalOrigin_NEURON(cellSectionLists, cell_phi, cell_normal, cell_origin):\n",
    "    # 获得旋转矩阵\n",
    "    rotMatrix_phi = getRotationMatrix(vecAx=[0, 0, 1], angle=cell_phi)\n",
    "    rotMatrix_normal = getRotationMatrix(vec0=[0, 0, 1], vec1=cell_normal)\n",
    "    for sec_hObj in cellSectionLists:\n",
    "        for j in range(sec_hObj.n3d()):\n",
    "            x0, y0, z0 = sec_hObj.x3d(j), sec_hObj.y3d(j), sec_hObj.z3d(j)\n",
    "            vec_xyz = np.dot(rotMatrix_phi, np.array([x0, y0, z0]))\n",
    "            vec_xyz = np.dot(rotMatrix_normal, vec_xyz)\n",
    "            vec_xyz = vec_xyz + cell_origin\n",
    "            sec_hObj.pt3dchange(j, vec_xyz[0], vec_xyz[1], vec_xyz[2], sec_hObj.diam3d(j))   \n",
    "\n",
    "def placeCellSection_ByPhiNormalOrigin(secCoordStart, secCoordEnd, secCoordMid, cell_phi=None, cell_normal=None, cell_origin=None):\n",
    "    # secCoordStart: shape is (numSection, 3=x,y,z)\n",
    "    secCoordStart_new = np.zeros_like(secCoordStart)\n",
    "    secCoordEnd_new   = np.zeros_like(secCoordEnd)\n",
    "    secCoordMid_new   = np.zeros_like(secCoordMid)\n",
    "    if cell_phi is None and cell_normal is None and cell_origin is None:\n",
    "        print('Don\\'t change cell coordinates.')\n",
    "        return secCoordStart, secCoordEnd, secCoordMid\n",
    "        \n",
    "    if cell_phi is not None:\n",
    "        rotMatrix_phi = getRotationMatrix(vecAx=[0, 0, 1], angle=cell_phi)\n",
    "    if cell_normal is not None:\n",
    "        rotMatrix_normal = getRotationMatrix(vec0=[0, 0, 1], vec1=cell_normal)\n",
    "    for i in range(secCoordStart.shape[0]):\n",
    "        xyz_start = secCoordStart[i, :]\n",
    "        xyz_end   = secCoordEnd[i, :]\n",
    "        xyz_mid   = secCoordMid[i, :]\n",
    "        if cell_phi is not None:\n",
    "            xyz_start = np.dot(rotMatrix_phi, xyz_start)\n",
    "            xyz_end   = np.dot(rotMatrix_phi, xyz_end)\n",
    "            xyz_mid   = np.dot(rotMatrix_phi, xyz_mid)\n",
    "        if cell_normal is not None:\n",
    "            xyz_start = np.dot(rotMatrix_normal, xyz_start)\n",
    "            xyz_end   = np.dot(rotMatrix_normal, xyz_end)\n",
    "            xyz_mid   = np.dot(rotMatrix_normal, xyz_mid)\n",
    "        if cell_origin is not None:\n",
    "            xyz_start += cell_origin\n",
    "            xyz_end   += cell_origin\n",
    "            xyz_mid   += cell_origin\n",
    "        secCoordStart_new[i, :] = xyz_start\n",
    "        secCoordEnd_new[i, :]   = xyz_end\n",
    "        secCoordMid_new[i, :]   = xyz_mid\n",
    "\n",
    "    return secCoordStart_new, secCoordEnd_new, secCoordMid_new"
   ]
  },
  {
   "cell_type": "code",
   "execution_count": 3,
   "id": "bd039931-21e0-467d-a899-ea31b65cd3f2",
   "metadata": {
    "editable": true,
    "slideshow": {
     "slide_type": ""
    },
    "tags": []
   },
   "outputs": [
    {
     "name": "stdout",
     "output_type": "stream",
     "text": [
      "cellData keys:  dict_keys(['section_coords', 'segment_coords'])\n",
      "surfData keys:  dict_keys(['surface', 'vnormals', 'cell_normals', 'cell_origins', 'depth', 'num_elem'])\n",
      "Wall time: 14.1 s\n"
     ]
    }
   ],
   "source": [
    "%%time\n",
    "# (1) Load L5PC Clone4 section coordinates\n",
    "dataPath = r'C:\\Users\\Snowp\\PycharmProjects\\pythonProject\\24_tACS_PLV\\data\\L5PC_Clone4_coordinates_sectionAndSegment.npy'\n",
    "cellData = np.load(dataPath, allow_pickle=True).item()\n",
    "print('cellData keys: ', cellData.keys())\n",
    "'''section coordinates'''\n",
    "section_coords = cellData['section_coords']\n",
    "cell_section_names             = section_coords['cell_section_names']\n",
    "cell_section_coordinates_start = section_coords['cell_section_coordinates_start'] * 1e-3 # unit: μm → mm\n",
    "cell_section_coordinates_end   = section_coords['cell_section_coordinates_end'] * 1e-3   # unit: μm → mm\n",
    "cell_section_coordinates_mid   = section_coords['cell_section_coordinates_mid'] * 1e-3   # unit: μm → mm\n",
    "num_section                    = len(cell_section_names)\n",
    "'''segment coordinates'''\n",
    "segment_coords = cellData['segment_coords']\n",
    "cell_segment_names             = segment_coords['cell_segment_names']\n",
    "cell_segment_coordinates_start = segment_coords['cell_segment_coordinates_start'] * 1e-3 # unit: μm → mm\n",
    "cell_segment_coordinates_end   = segment_coords['cell_segment_coordinates_end'] * 1e-3   # unit: μm → mm\n",
    "cell_segment_coordinates_mid   = segment_coords['cell_segment_coordinates_mid'] * 1e-3   # unit: μm → mm\n",
    "num_segment                    = len(cell_segment_names)\n",
    "\n",
    "# (2) Load L5 SOI mesh information\n",
    "dataPath = r'C:\\Users\\Snowp\\PycharmProjects\\pythonProject\\24_tACS_PLV\\data\\Layer5_information_after_downsampling.npy'\n",
    "surfData = np.load(dataPath, allow_pickle=True).item()\n",
    "print('surfData keys: ', surfData.keys())\n",
    "cell_normals = surfData['cell_normals']\n",
    "cell_origins = surfData['cell_origins'] # unit is mm\n",
    "num_element  = surfData['num_elem']\n",
    "\n",
    "# (3) Rotate each cell around its normal vector, and then translate the origin.\n",
    "'''section'''\n",
    "popCells_section_coords   = {}\n",
    "section_coordinates_start = np.zeros((num_element, num_section, 3))\n",
    "section_coordinates_end   = np.zeros((num_element, num_section, 3))\n",
    "section_coordinates_mid   = np.zeros((num_element, num_section, 3))\n",
    "for i in range(num_element):\n",
    "    cell_normal = cell_normals[i, :]\n",
    "    cell_origin = cell_origins[i, :]\n",
    "    secCoordStart, secCoordEnd, secCoordMid = placeCellSection_ByPhiNormalOrigin(cell_section_coordinates_start, cell_section_coordinates_end, \\\n",
    "                                 cell_section_coordinates_mid, cell_phi=None, cell_normal=cell_normal, cell_origin=cell_origin)\n",
    "    section_coordinates_start[i, :, :] = secCoordStart\n",
    "    section_coordinates_end[i, :, :]   = secCoordEnd\n",
    "    section_coordinates_mid[i, :, :]   = secCoordMid\n",
    "popCells_section_coords['section_coordinates_start'] = section_coordinates_start\n",
    "popCells_section_coords['section_coordinates_end']   = section_coordinates_end\n",
    "popCells_section_coords['section_coordinates_mid']   = section_coordinates_mid\n",
    "'''segment'''\n",
    "popCells_segment_coords   = {}\n",
    "segment_coordinates_start = np.zeros((num_element, num_segment, 3))\n",
    "segment_coordinates_end   = np.zeros((num_element, num_segment, 3))\n",
    "segment_coordinates_mid   = np.zeros((num_element, num_segment, 3))\n",
    "for i in range(num_element):\n",
    "    cell_normal = cell_normals[i, :]\n",
    "    cell_origin = cell_origins[i, :]\n",
    "    segCoordStart, segCoordEnd, segCoordMid = placeCellSection_ByPhiNormalOrigin(cell_segment_coordinates_start, cell_segment_coordinates_end, \\\n",
    "                                 cell_segment_coordinates_mid, cell_phi=None, cell_normal=cell_normal, cell_origin=cell_origin)\n",
    "    segment_coordinates_start[i, :, :] = segCoordStart\n",
    "    segment_coordinates_end[i, :, :]   = segCoordEnd\n",
    "    segment_coordinates_mid[i, :, :]   = segCoordMid\n",
    "popCells_segment_coords['segment_coordinates_start'] = segment_coordinates_start\n",
    "popCells_segment_coords['segment_coordinates_end']   = segment_coordinates_end\n",
    "popCells_segment_coords['segment_coordinates_mid']   = segment_coordinates_mid\n",
    "\n",
    "# (4) Save the location data of the Layer5 cluster, including the surface mesh data.\n",
    "data = {\n",
    "    'popCells_section_coords': popCells_section_coords,\n",
    "    'popCells_segment_coords': popCells_segment_coords,\n",
    "    'cell_normals': cell_normals,\n",
    "    'cell_origins': cell_origins\n",
    "}\n",
    "savePath = r'C:\\Users\\Snowp\\PycharmProjects\\pythonProject\\24_tACS_PLV\\data\\Layer5_popCelll_sectionAndSegmentCoordinates.npy'\n",
    "if not os.path.exists(savePath):\n",
    "    np.save(savePath, data)"
   ]
  },
  {
   "cell_type": "markdown",
   "id": "cbbba2ec-3d01-417d-8ff1-ee47f22605a2",
   "metadata": {},
   "source": [
    "# 4. Find the n/10 elements that are closest to the given element"
   ]
  },
  {
   "cell_type": "code",
   "execution_count": 16,
   "id": "05ddc92e-4883-4526-8caf-64b901869186",
   "metadata": {},
   "outputs": [
    {
     "name": "stdout",
     "output_type": "stream",
     "text": [
      "surfData keys:  dict_keys(['surface', 'vnormals', 'cell_normals', 'cell_origins', 'depth', 'num_elem'])\n",
      "[475 483 531 474 529 481 473 480 472 528]\n"
     ]
    }
   ],
   "source": [
    "num_close = 10\n",
    "\n",
    "dataPath = r'C:\\Users\\Snowp\\PycharmProjects\\pythonProject\\24_tACS_PLV\\data\\Layer5_information_after_downsampling.npy'\n",
    "surfData = np.load(dataPath, allow_pickle=True).item()\n",
    "print('surfData keys: ', surfData.keys())\n",
    "cell_normals = surfData['cell_normals']\n",
    "cell_origins = surfData['cell_origins'] # unit is mm\n",
    "\n",
    "point_givenBySnowp = np.array([-43.9248, -4.43097, 64.9797])\n",
    "distance = cell_origins - point_givenBySnowp\n",
    "distance = np.linalg.norm(distance, axis=1)\n",
    "indeces_minNelement = np.argsort(distance)[:num_close]\n",
    "print(indeces_minNelement)"
   ]
  },
  {
   "cell_type": "code",
   "execution_count": null,
   "id": "c123be57-9c40-4989-91e2-d93aaf8a092c",
   "metadata": {},
   "outputs": [],
   "source": []
  }
 ],
 "metadata": {
  "kernelspec": {
   "display_name": "Python 3 (ipykernel)",
   "language": "python",
   "name": "python3"
  },
  "language_info": {
   "codemirror_mode": {
    "name": "ipython",
    "version": 3
   },
   "file_extension": ".py",
   "mimetype": "text/x-python",
   "name": "python",
   "nbconvert_exporter": "python",
   "pygments_lexer": "ipython3",
   "version": "3.9.12"
  }
 },
 "nbformat": 4,
 "nbformat_minor": 5
}
